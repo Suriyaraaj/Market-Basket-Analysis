{
  "nbformat": 4,
  "nbformat_minor": 0,
  "metadata": {
    "colab": {
      "provenance": []
    },
    "kernelspec": {
      "name": "python3",
      "display_name": "Python 3"
    },
    "language_info": {
      "name": "python"
    }
  },
  "cells": [
    {
      "cell_type": "code",
      "execution_count": 2,
      "metadata": {
        "id": "-Y1dw-OoXRDo"
      },
      "outputs": [],
      "source": [
        "# Data Handling\n",
        "#===================\n",
        "import pandas as pd\n",
        "from mlxtend.frequent_patterns import apriori, association_rules\n",
        "\n",
        "# Visualization\n",
        "#===================\n",
        "import plotly.express as px\n",
        "import plotly.io as pio\n",
        "import plotly.graph_objects as go\n",
        "pio.templates.default = \"plotly_dark\"\n"
      ]
    },
    {
      "cell_type": "code",
      "source": [
        "# Importing the dataset\n",
        "#=========================\n",
        "data = pd.read_csv(\"/market_basket_dataset.csv\")\n",
        "data.head()"
      ],
      "metadata": {
        "colab": {
          "base_uri": "https://localhost:8080/",
          "height": 261
        },
        "id": "bCXV-qgzYHMD",
        "outputId": "6f30c8bc-34ae-4185-9131-cc95664040e8"
      },
      "execution_count": 3,
      "outputs": [
        {
          "output_type": "stream",
          "name": "stderr",
          "text": [
            "/usr/local/lib/python3.10/dist-packages/ipykernel/ipkernel.py:283: DeprecationWarning: `should_run_async` will not call `transform_cell` automatically in the future. Please pass the result to `transformed_cell` argument and any exception that happen during thetransform in `preprocessing_exc_tuple` in IPython 7.17 and above.\n",
            "  and should_run_async(code)\n"
          ]
        },
        {
          "output_type": "execute_result",
          "data": {
            "text/plain": [
              "   BillNo  Itemname  Quantity  Price  CustomerID\n",
              "0    1000    Apples         5   8.30       52299\n",
              "1    1000    Butter         4   6.06       11752\n",
              "2    1000      Eggs         4   2.66       16415\n",
              "3    1000  Potatoes         4   8.10       22889\n",
              "4    1004   Oranges         2   7.26       52255"
            ],
            "text/html": [
              "\n",
              "  <div id=\"df-e48138e9-e47e-4bc8-b7c8-afc268a270ba\" class=\"colab-df-container\">\n",
              "    <div>\n",
              "<style scoped>\n",
              "    .dataframe tbody tr th:only-of-type {\n",
              "        vertical-align: middle;\n",
              "    }\n",
              "\n",
              "    .dataframe tbody tr th {\n",
              "        vertical-align: top;\n",
              "    }\n",
              "\n",
              "    .dataframe thead th {\n",
              "        text-align: right;\n",
              "    }\n",
              "</style>\n",
              "<table border=\"1\" class=\"dataframe\">\n",
              "  <thead>\n",
              "    <tr style=\"text-align: right;\">\n",
              "      <th></th>\n",
              "      <th>BillNo</th>\n",
              "      <th>Itemname</th>\n",
              "      <th>Quantity</th>\n",
              "      <th>Price</th>\n",
              "      <th>CustomerID</th>\n",
              "    </tr>\n",
              "  </thead>\n",
              "  <tbody>\n",
              "    <tr>\n",
              "      <th>0</th>\n",
              "      <td>1000</td>\n",
              "      <td>Apples</td>\n",
              "      <td>5</td>\n",
              "      <td>8.30</td>\n",
              "      <td>52299</td>\n",
              "    </tr>\n",
              "    <tr>\n",
              "      <th>1</th>\n",
              "      <td>1000</td>\n",
              "      <td>Butter</td>\n",
              "      <td>4</td>\n",
              "      <td>6.06</td>\n",
              "      <td>11752</td>\n",
              "    </tr>\n",
              "    <tr>\n",
              "      <th>2</th>\n",
              "      <td>1000</td>\n",
              "      <td>Eggs</td>\n",
              "      <td>4</td>\n",
              "      <td>2.66</td>\n",
              "      <td>16415</td>\n",
              "    </tr>\n",
              "    <tr>\n",
              "      <th>3</th>\n",
              "      <td>1000</td>\n",
              "      <td>Potatoes</td>\n",
              "      <td>4</td>\n",
              "      <td>8.10</td>\n",
              "      <td>22889</td>\n",
              "    </tr>\n",
              "    <tr>\n",
              "      <th>4</th>\n",
              "      <td>1004</td>\n",
              "      <td>Oranges</td>\n",
              "      <td>2</td>\n",
              "      <td>7.26</td>\n",
              "      <td>52255</td>\n",
              "    </tr>\n",
              "  </tbody>\n",
              "</table>\n",
              "</div>\n",
              "    <div class=\"colab-df-buttons\">\n",
              "\n",
              "  <div class=\"colab-df-container\">\n",
              "    <button class=\"colab-df-convert\" onclick=\"convertToInteractive('df-e48138e9-e47e-4bc8-b7c8-afc268a270ba')\"\n",
              "            title=\"Convert this dataframe to an interactive table.\"\n",
              "            style=\"display:none;\">\n",
              "\n",
              "  <svg xmlns=\"http://www.w3.org/2000/svg\" height=\"24px\" viewBox=\"0 -960 960 960\">\n",
              "    <path d=\"M120-120v-720h720v720H120Zm60-500h600v-160H180v160Zm220 220h160v-160H400v160Zm0 220h160v-160H400v160ZM180-400h160v-160H180v160Zm440 0h160v-160H620v160ZM180-180h160v-160H180v160Zm440 0h160v-160H620v160Z\"/>\n",
              "  </svg>\n",
              "    </button>\n",
              "\n",
              "  <style>\n",
              "    .colab-df-container {\n",
              "      display:flex;\n",
              "      gap: 12px;\n",
              "    }\n",
              "\n",
              "    .colab-df-convert {\n",
              "      background-color: #E8F0FE;\n",
              "      border: none;\n",
              "      border-radius: 50%;\n",
              "      cursor: pointer;\n",
              "      display: none;\n",
              "      fill: #1967D2;\n",
              "      height: 32px;\n",
              "      padding: 0 0 0 0;\n",
              "      width: 32px;\n",
              "    }\n",
              "\n",
              "    .colab-df-convert:hover {\n",
              "      background-color: #E2EBFA;\n",
              "      box-shadow: 0px 1px 2px rgba(60, 64, 67, 0.3), 0px 1px 3px 1px rgba(60, 64, 67, 0.15);\n",
              "      fill: #174EA6;\n",
              "    }\n",
              "\n",
              "    .colab-df-buttons div {\n",
              "      margin-bottom: 4px;\n",
              "    }\n",
              "\n",
              "    [theme=dark] .colab-df-convert {\n",
              "      background-color: #3B4455;\n",
              "      fill: #D2E3FC;\n",
              "    }\n",
              "\n",
              "    [theme=dark] .colab-df-convert:hover {\n",
              "      background-color: #434B5C;\n",
              "      box-shadow: 0px 1px 3px 1px rgba(0, 0, 0, 0.15);\n",
              "      filter: drop-shadow(0px 1px 2px rgba(0, 0, 0, 0.3));\n",
              "      fill: #FFFFFF;\n",
              "    }\n",
              "  </style>\n",
              "\n",
              "    <script>\n",
              "      const buttonEl =\n",
              "        document.querySelector('#df-e48138e9-e47e-4bc8-b7c8-afc268a270ba button.colab-df-convert');\n",
              "      buttonEl.style.display =\n",
              "        google.colab.kernel.accessAllowed ? 'block' : 'none';\n",
              "\n",
              "      async function convertToInteractive(key) {\n",
              "        const element = document.querySelector('#df-e48138e9-e47e-4bc8-b7c8-afc268a270ba');\n",
              "        const dataTable =\n",
              "          await google.colab.kernel.invokeFunction('convertToInteractive',\n",
              "                                                    [key], {});\n",
              "        if (!dataTable) return;\n",
              "\n",
              "        const docLinkHtml = 'Like what you see? Visit the ' +\n",
              "          '<a target=\"_blank\" href=https://colab.research.google.com/notebooks/data_table.ipynb>data table notebook</a>'\n",
              "          + ' to learn more about interactive tables.';\n",
              "        element.innerHTML = '';\n",
              "        dataTable['output_type'] = 'display_data';\n",
              "        await google.colab.output.renderOutput(dataTable, element);\n",
              "        const docLink = document.createElement('div');\n",
              "        docLink.innerHTML = docLinkHtml;\n",
              "        element.appendChild(docLink);\n",
              "      }\n",
              "    </script>\n",
              "  </div>\n",
              "\n",
              "\n",
              "<div id=\"df-74028c1c-56bb-40e8-962f-c252e992da3f\">\n",
              "  <button class=\"colab-df-quickchart\" onclick=\"quickchart('df-74028c1c-56bb-40e8-962f-c252e992da3f')\"\n",
              "            title=\"Suggest charts\"\n",
              "            style=\"display:none;\">\n",
              "\n",
              "<svg xmlns=\"http://www.w3.org/2000/svg\" height=\"24px\"viewBox=\"0 0 24 24\"\n",
              "     width=\"24px\">\n",
              "    <g>\n",
              "        <path d=\"M19 3H5c-1.1 0-2 .9-2 2v14c0 1.1.9 2 2 2h14c1.1 0 2-.9 2-2V5c0-1.1-.9-2-2-2zM9 17H7v-7h2v7zm4 0h-2V7h2v10zm4 0h-2v-4h2v4z\"/>\n",
              "    </g>\n",
              "</svg>\n",
              "  </button>\n",
              "\n",
              "<style>\n",
              "  .colab-df-quickchart {\n",
              "      --bg-color: #E8F0FE;\n",
              "      --fill-color: #1967D2;\n",
              "      --hover-bg-color: #E2EBFA;\n",
              "      --hover-fill-color: #174EA6;\n",
              "      --disabled-fill-color: #AAA;\n",
              "      --disabled-bg-color: #DDD;\n",
              "  }\n",
              "\n",
              "  [theme=dark] .colab-df-quickchart {\n",
              "      --bg-color: #3B4455;\n",
              "      --fill-color: #D2E3FC;\n",
              "      --hover-bg-color: #434B5C;\n",
              "      --hover-fill-color: #FFFFFF;\n",
              "      --disabled-bg-color: #3B4455;\n",
              "      --disabled-fill-color: #666;\n",
              "  }\n",
              "\n",
              "  .colab-df-quickchart {\n",
              "    background-color: var(--bg-color);\n",
              "    border: none;\n",
              "    border-radius: 50%;\n",
              "    cursor: pointer;\n",
              "    display: none;\n",
              "    fill: var(--fill-color);\n",
              "    height: 32px;\n",
              "    padding: 0;\n",
              "    width: 32px;\n",
              "  }\n",
              "\n",
              "  .colab-df-quickchart:hover {\n",
              "    background-color: var(--hover-bg-color);\n",
              "    box-shadow: 0 1px 2px rgba(60, 64, 67, 0.3), 0 1px 3px 1px rgba(60, 64, 67, 0.15);\n",
              "    fill: var(--button-hover-fill-color);\n",
              "  }\n",
              "\n",
              "  .colab-df-quickchart-complete:disabled,\n",
              "  .colab-df-quickchart-complete:disabled:hover {\n",
              "    background-color: var(--disabled-bg-color);\n",
              "    fill: var(--disabled-fill-color);\n",
              "    box-shadow: none;\n",
              "  }\n",
              "\n",
              "  .colab-df-spinner {\n",
              "    border: 2px solid var(--fill-color);\n",
              "    border-color: transparent;\n",
              "    border-bottom-color: var(--fill-color);\n",
              "    animation:\n",
              "      spin 1s steps(1) infinite;\n",
              "  }\n",
              "\n",
              "  @keyframes spin {\n",
              "    0% {\n",
              "      border-color: transparent;\n",
              "      border-bottom-color: var(--fill-color);\n",
              "      border-left-color: var(--fill-color);\n",
              "    }\n",
              "    20% {\n",
              "      border-color: transparent;\n",
              "      border-left-color: var(--fill-color);\n",
              "      border-top-color: var(--fill-color);\n",
              "    }\n",
              "    30% {\n",
              "      border-color: transparent;\n",
              "      border-left-color: var(--fill-color);\n",
              "      border-top-color: var(--fill-color);\n",
              "      border-right-color: var(--fill-color);\n",
              "    }\n",
              "    40% {\n",
              "      border-color: transparent;\n",
              "      border-right-color: var(--fill-color);\n",
              "      border-top-color: var(--fill-color);\n",
              "    }\n",
              "    60% {\n",
              "      border-color: transparent;\n",
              "      border-right-color: var(--fill-color);\n",
              "    }\n",
              "    80% {\n",
              "      border-color: transparent;\n",
              "      border-right-color: var(--fill-color);\n",
              "      border-bottom-color: var(--fill-color);\n",
              "    }\n",
              "    90% {\n",
              "      border-color: transparent;\n",
              "      border-bottom-color: var(--fill-color);\n",
              "    }\n",
              "  }\n",
              "</style>\n",
              "\n",
              "  <script>\n",
              "    async function quickchart(key) {\n",
              "      const quickchartButtonEl =\n",
              "        document.querySelector('#' + key + ' button');\n",
              "      quickchartButtonEl.disabled = true;  // To prevent multiple clicks.\n",
              "      quickchartButtonEl.classList.add('colab-df-spinner');\n",
              "      try {\n",
              "        const charts = await google.colab.kernel.invokeFunction(\n",
              "            'suggestCharts', [key], {});\n",
              "      } catch (error) {\n",
              "        console.error('Error during call to suggestCharts:', error);\n",
              "      }\n",
              "      quickchartButtonEl.classList.remove('colab-df-spinner');\n",
              "      quickchartButtonEl.classList.add('colab-df-quickchart-complete');\n",
              "    }\n",
              "    (() => {\n",
              "      let quickchartButtonEl =\n",
              "        document.querySelector('#df-74028c1c-56bb-40e8-962f-c252e992da3f button');\n",
              "      quickchartButtonEl.style.display =\n",
              "        google.colab.kernel.accessAllowed ? 'block' : 'none';\n",
              "    })();\n",
              "  </script>\n",
              "</div>\n",
              "\n",
              "    </div>\n",
              "  </div>\n"
            ],
            "application/vnd.google.colaboratory.intrinsic+json": {
              "type": "dataframe",
              "variable_name": "data",
              "summary": "{\n  \"name\": \"data\",\n  \"rows\": 500,\n  \"fields\": [\n    {\n      \"column\": \"BillNo\",\n      \"properties\": {\n        \"dtype\": \"number\",\n        \"std\": 144,\n        \"min\": 1000,\n        \"max\": 1497,\n        \"num_unique_values\": 153,\n        \"samples\": [\n          1283,\n          1287,\n          1313\n        ],\n        \"semantic_type\": \"\",\n        \"description\": \"\"\n      }\n    },\n    {\n      \"column\": \"Itemname\",\n      \"properties\": {\n        \"dtype\": \"category\",\n        \"num_unique_values\": 19,\n        \"samples\": [\n          \"Apples\",\n          \"Milk\",\n          \"Bread\"\n        ],\n        \"semantic_type\": \"\",\n        \"description\": \"\"\n      }\n    },\n    {\n      \"column\": \"Quantity\",\n      \"properties\": {\n        \"dtype\": \"number\",\n        \"std\": 1,\n        \"min\": 1,\n        \"max\": 5,\n        \"num_unique_values\": 5,\n        \"samples\": [\n          4,\n          1,\n          2\n        ],\n        \"semantic_type\": \"\",\n        \"description\": \"\"\n      }\n    },\n    {\n      \"column\": \"Price\",\n      \"properties\": {\n        \"dtype\": \"number\",\n        \"std\": 2.572919461138847,\n        \"min\": 1.04,\n        \"max\": 9.94,\n        \"num_unique_values\": 378,\n        \"samples\": [\n          9.87,\n          6.99,\n          4.19\n        ],\n        \"semantic_type\": \"\",\n        \"description\": \"\"\n      }\n    },\n    {\n      \"column\": \"CustomerID\",\n      \"properties\": {\n        \"dtype\": \"number\",\n        \"std\": 25672,\n        \"min\": 10504,\n        \"max\": 99162,\n        \"num_unique_values\": 499,\n        \"samples\": [\n          47681,\n          34870,\n          81031\n        ],\n        \"semantic_type\": \"\",\n        \"description\": \"\"\n      }\n    }\n  ]\n}"
            }
          },
          "metadata": {},
          "execution_count": 3
        }
      ]
    },
    {
      "cell_type": "markdown",
      "source": [
        "Let’s have a look if the data has any null values or not before moving forward"
      ],
      "metadata": {
        "id": "4UFEYhZiZLyV"
      }
    },
    {
      "cell_type": "code",
      "source": [
        "# Overview\n",
        "#============\n",
        "print(\"#\" * 50)\n",
        "print(\" \" * 15, \"Dataset Information\")\n",
        "print(\"#\" * 50)\n",
        "print(\"The Dataset has {} columns and {} rows.\".format(data.shape[1], data.shape[0]))\n",
        "print(\"The DataFrame has {} duplicated values and {} missing values.\".format(data.duplicated().sum(), data.isnull().sum().sum()))\n",
        "print(data.info())"
      ],
      "metadata": {
        "id": "c4TOHx5pxKZa"
      },
      "execution_count": 1,
      "outputs": []
    },
    {
      "cell_type": "markdown",
      "source": [
        "Now, let’s have a look at the summary statistics of this dataset"
      ],
      "metadata": {
        "id": "OBeZ8mpeZfFx"
      }
    },
    {
      "cell_type": "code",
      "source": [
        "print(data.describe())"
      ],
      "metadata": {
        "colab": {
          "base_uri": "https://localhost:8080/"
        },
        "id": "O6pteo1VZZ5h",
        "outputId": "cd7f64ac-65b0-4680-fca1-c610c16b91c5"
      },
      "execution_count": 5,
      "outputs": [
        {
          "output_type": "stream",
          "name": "stdout",
          "text": [
            "            BillNo    Quantity       Price    CustomerID\n",
            "count   500.000000  500.000000  500.000000    500.000000\n",
            "mean   1247.442000    2.978000    5.617660  54229.800000\n",
            "std     144.483097    1.426038    2.572919  25672.122585\n",
            "min    1000.000000    1.000000    1.040000  10504.000000\n",
            "25%    1120.000000    2.000000    3.570000  32823.500000\n",
            "50%    1246.500000    3.000000    5.430000  53506.500000\n",
            "75%    1370.000000    4.000000    7.920000  76644.250000\n",
            "max    1497.000000    5.000000    9.940000  99162.000000\n"
          ]
        },
        {
          "output_type": "stream",
          "name": "stderr",
          "text": [
            "/usr/local/lib/python3.10/dist-packages/ipykernel/ipkernel.py:283: DeprecationWarning: `should_run_async` will not call `transform_cell` automatically in the future. Please pass the result to `transformed_cell` argument and any exception that happen during thetransform in `preprocessing_exc_tuple` in IPython 7.17 and above.\n",
            "  and should_run_async(code)\n"
          ]
        }
      ]
    },
    {
      "cell_type": "markdown",
      "source": [
        "Now, let’s have a look at the sales distribution of items"
      ],
      "metadata": {
        "id": "RWW6m8b0ZrhY"
      }
    },
    {
      "cell_type": "code",
      "source": [
        "fig = px.histogram(data, x='Itemname',\n",
        "                   title='Item Distribution')\n",
        "fig.show()"
      ],
      "metadata": {
        "colab": {
          "base_uri": "https://localhost:8080/",
          "height": 597
        },
        "id": "RoRzNBw6ZZ23",
        "outputId": "ce635674-1271-4c45-d249-5ff4b7c2a5c4"
      },
      "execution_count": 6,
      "outputs": [
        {
          "output_type": "stream",
          "name": "stderr",
          "text": [
            "/usr/local/lib/python3.10/dist-packages/ipykernel/ipkernel.py:283: DeprecationWarning: `should_run_async` will not call `transform_cell` automatically in the future. Please pass the result to `transformed_cell` argument and any exception that happen during thetransform in `preprocessing_exc_tuple` in IPython 7.17 and above.\n",
            "  and should_run_async(code)\n"
          ]
        },
        {
          "output_type": "display_data",
          "data": {
            "text/html": [
              "<html>\n",
              "<head><meta charset=\"utf-8\" /></head>\n",
              "<body>\n",
              "    <div>            <script src=\"https://cdnjs.cloudflare.com/ajax/libs/mathjax/2.7.5/MathJax.js?config=TeX-AMS-MML_SVG\"></script><script type=\"text/javascript\">if (window.MathJax && window.MathJax.Hub && window.MathJax.Hub.Config) {window.MathJax.Hub.Config({SVG: {font: \"STIX-Web\"}});}</script>                <script type=\"text/javascript\">window.PlotlyConfig = {MathJaxConfig: 'local'};</script>\n",
              "        <script charset=\"utf-8\" src=\"https://cdn.plot.ly/plotly-2.24.1.min.js\"></script>                <div id=\"79a54ba4-04c2-4e20-a887-8cb613a3ab83\" class=\"plotly-graph-div\" style=\"height:525px; width:100%;\"></div>            <script type=\"text/javascript\">                                    window.PLOTLYENV=window.PLOTLYENV || {};                                    if (document.getElementById(\"79a54ba4-04c2-4e20-a887-8cb613a3ab83\")) {                    Plotly.newPlot(                        \"79a54ba4-04c2-4e20-a887-8cb613a3ab83\",                        [{\"alignmentgroup\":\"True\",\"bingroup\":\"x\",\"hovertemplate\":\"Itemname=%{x}\\u003cbr\\u003ecount=%{y}\\u003cextra\\u003e\\u003c\\u002fextra\\u003e\",\"legendgroup\":\"\",\"marker\":{\"color\":\"#636efa\",\"pattern\":{\"shape\":\"\"}},\"name\":\"\",\"offsetgroup\":\"\",\"orientation\":\"v\",\"showlegend\":false,\"x\":[\"Apples\",\"Butter\",\"Eggs\",\"Potatoes\",\"Oranges\",\"Milk\",\"Onions\",\"Cereal\",\"Tomatoes\",\"Potatoes\",\"Cereal\",\"Bananas\",\"Tomatoes\",\"Pasta\",\"Onions\",\"Bread\",\"Bananas\",\"Coffee\",\"Sugar\",\"Potatoes\",\"Oranges\",\"Bananas\",\"Oranges\",\"Potatoes\",\"Chicken\",\"Cereal\",\"Bananas\",\"Cheese\",\"Pasta\",\"Cereal\",\"Onions\",\"Bananas\",\"Chicken\",\"Sugar\",\"Eggs\",\"Onions\",\"Cereal\",\"Cheese\",\"Cereal\",\"Coffee\",\"Bread\",\"Onions\",\"Chicken\",\"Pasta\",\"Eggs\",\"Butter\",\"Bananas\",\"Chicken\",\"Tomatoes\",\"Tea\",\"Bananas\",\"Pasta\",\"Eggs\",\"Cereal\",\"Sugar\",\"Coffee\",\"Apples\",\"Tomatoes\",\"Chicken\",\"Pasta\",\"Bread\",\"Sugar\",\"Potatoes\",\"Yogurt\",\"Butter\",\"Bananas\",\"Milk\",\"Eggs\",\"Sugar\",\"Juice\",\"Tomatoes\",\"Butter\",\"Onions\",\"Coffee\",\"Bananas\",\"Onions\",\"Coffee\",\"Tea\",\"Bananas\",\"Onions\",\"Juice\",\"Pasta\",\"Tea\",\"Juice\",\"Cereal\",\"Butter\",\"Yogurt\",\"Juice\",\"Pasta\",\"Onions\",\"Chicken\",\"Tea\",\"Juice\",\"Potatoes\",\"Sugar\",\"Coffee\",\"Milk\",\"Tomatoes\",\"Apples\",\"Yogurt\",\"Eggs\",\"Pasta\",\"Bread\",\"Apples\",\"Butter\",\"Apples\",\"Tea\",\"Juice\",\"Butter\",\"Eggs\",\"Tomatoes\",\"Milk\",\"Milk\",\"Bananas\",\"Oranges\",\"Bananas\",\"Apples\",\"Yogurt\",\"Sugar\",\"Tomatoes\",\"Bread\",\"Bananas\",\"Potatoes\",\"Tomatoes\",\"Onions\",\"Milk\",\"Oranges\",\"Milk\",\"Yogurt\",\"Oranges\",\"Coffee\",\"Bread\",\"Juice\",\"Tomatoes\",\"Eggs\",\"Potatoes\",\"Bananas\",\"Milk\",\"Butter\",\"Bananas\",\"Onions\",\"Eggs\",\"Juice\",\"Cheese\",\"Cheese\",\"Oranges\",\"Tomatoes\",\"Yogurt\",\"Potatoes\",\"Juice\",\"Sugar\",\"Bananas\",\"Eggs\",\"Tea\",\"Yogurt\",\"Eggs\",\"Butter\",\"Oranges\",\"Bread\",\"Potatoes\",\"Cheese\",\"Sugar\",\"Apples\",\"Tomatoes\",\"Milk\",\"Cheese\",\"Oranges\",\"Yogurt\",\"Tea\",\"Cereal\",\"Cheese\",\"Cereal\",\"Pasta\",\"Bananas\",\"Coffee\",\"Yogurt\",\"Cereal\",\"Butter\",\"Chicken\",\"Juice\",\"Oranges\",\"Potatoes\",\"Tomatoes\",\"Coffee\",\"Bread\",\"Cereal\",\"Juice\",\"Tea\",\"Coffee\",\"Pasta\",\"Onions\",\"Cheese\",\"Tea\",\"Apples\",\"Oranges\",\"Tea\",\"Cereal\",\"Onions\",\"Juice\",\"Cheese\",\"Tea\",\"Cereal\",\"Yogurt\",\"Bananas\",\"Yogurt\",\"Bananas\",\"Sugar\",\"Tomatoes\",\"Chicken\",\"Butter\",\"Potatoes\",\"Tea\",\"Milk\",\"Oranges\",\"Apples\",\"Tomatoes\",\"Sugar\",\"Tomatoes\",\"Cheese\",\"Oranges\",\"Tea\",\"Yogurt\",\"Yogurt\",\"Oranges\",\"Coffee\",\"Yogurt\",\"Juice\",\"Potatoes\",\"Coffee\",\"Tea\",\"Bananas\",\"Sugar\",\"Coffee\",\"Butter\",\"Tea\",\"Butter\",\"Tomatoes\",\"Apples\",\"Bread\",\"Cheese\",\"Sugar\",\"Onions\",\"Potatoes\",\"Cheese\",\"Bananas\",\"Butter\",\"Cereal\",\"Potatoes\",\"Tea\",\"Bread\",\"Milk\",\"Oranges\",\"Cereal\",\"Bananas\",\"Onions\",\"Cheese\",\"Apples\",\"Eggs\",\"Milk\",\"Potatoes\",\"Cereal\",\"Pasta\",\"Oranges\",\"Chicken\",\"Bread\",\"Cheese\",\"Sugar\",\"Milk\",\"Tomatoes\",\"Cereal\",\"Chicken\",\"Coffee\",\"Cheese\",\"Juice\",\"Tea\",\"Eggs\",\"Potatoes\",\"Butter\",\"Bananas\",\"Eggs\",\"Cheese\",\"Bananas\",\"Juice\",\"Eggs\",\"Tomatoes\",\"Apples\",\"Potatoes\",\"Cheese\",\"Bananas\",\"Sugar\",\"Coffee\",\"Bread\",\"Apples\",\"Bananas\",\"Apples\",\"Milk\",\"Sugar\",\"Coffee\",\"Cereal\",\"Cheese\",\"Oranges\",\"Cheese\",\"Oranges\",\"Milk\",\"Onions\",\"Potatoes\",\"Coffee\",\"Cereal\",\"Tea\",\"Bread\",\"Pasta\",\"Eggs\",\"Coffee\",\"Yogurt\",\"Coffee\",\"Butter\",\"Eggs\",\"Onions\",\"Cereal\",\"Cheese\",\"Butter\",\"Apples\",\"Cheese\",\"Tea\",\"Bread\",\"Cereal\",\"Pasta\",\"Coffee\",\"Sugar\",\"Yogurt\",\"Milk\",\"Chicken\",\"Juice\",\"Pasta\",\"Oranges\",\"Cheese\",\"Coffee\",\"Tomatoes\",\"Bread\",\"Cereal\",\"Cheese\",\"Tomatoes\",\"Oranges\",\"Milk\",\"Tomatoes\",\"Cereal\",\"Apples\",\"Butter\",\"Onions\",\"Yogurt\",\"Milk\",\"Pasta\",\"Onions\",\"Tea\",\"Sugar\",\"Cheese\",\"Juice\",\"Coffee\",\"Onions\",\"Chicken\",\"Potatoes\",\"Apples\",\"Sugar\",\"Bread\",\"Yogurt\",\"Juice\",\"Coffee\",\"Apples\",\"Coffee\",\"Butter\",\"Bread\",\"Oranges\",\"Cheese\",\"Butter\",\"Tea\",\"Bananas\",\"Milk\",\"Onions\",\"Coffee\",\"Eggs\",\"Bananas\",\"Juice\",\"Eggs\",\"Sugar\",\"Coffee\",\"Apples\",\"Tea\",\"Apples\",\"Chicken\",\"Pasta\",\"Sugar\",\"Yogurt\",\"Apples\",\"Sugar\",\"Pasta\",\"Coffee\",\"Bread\",\"Milk\",\"Yogurt\",\"Yogurt\",\"Chicken\",\"Oranges\",\"Bread\",\"Butter\",\"Oranges\",\"Apples\",\"Chicken\",\"Eggs\",\"Cereal\",\"Sugar\",\"Tea\",\"Coffee\",\"Potatoes\",\"Eggs\",\"Cereal\",\"Pasta\",\"Pasta\",\"Butter\",\"Chicken\",\"Potatoes\",\"Bananas\",\"Tomatoes\",\"Eggs\",\"Apples\",\"Milk\",\"Tomatoes\",\"Cheese\",\"Onions\",\"Sugar\",\"Coffee\",\"Cereal\",\"Yogurt\",\"Sugar\",\"Tomatoes\",\"Eggs\",\"Bananas\",\"Eggs\",\"Tomatoes\",\"Eggs\",\"Cereal\",\"Pasta\",\"Bananas\",\"Bananas\",\"Cereal\",\"Onions\",\"Chicken\",\"Potatoes\",\"Bananas\",\"Cereal\",\"Bananas\",\"Juice\",\"Milk\",\"Oranges\",\"Butter\",\"Apples\",\"Bread\",\"Yogurt\",\"Oranges\",\"Sugar\",\"Potatoes\",\"Pasta\",\"Oranges\",\"Potatoes\",\"Yogurt\",\"Oranges\",\"Cheese\",\"Apples\",\"Milk\",\"Potatoes\",\"Coffee\",\"Yogurt\",\"Butter\",\"Bread\",\"Cereal\",\"Cheese\",\"Bananas\",\"Yogurt\",\"Pasta\",\"Chicken\",\"Juice\",\"Eggs\",\"Oranges\",\"Coffee\",\"Tomatoes\",\"Coffee\",\"Bread\",\"Juice\",\"Bananas\",\"Chicken\",\"Butter\",\"Oranges\",\"Milk\",\"Potatoes\",\"Chicken\",\"Bananas\",\"Juice\",\"Bread\",\"Coffee\",\"Pasta\",\"Eggs\"],\"xaxis\":\"x\",\"yaxis\":\"y\",\"type\":\"histogram\"}],                        {\"template\":{\"data\":{\"histogram2dcontour\":[{\"type\":\"histogram2dcontour\",\"colorbar\":{\"outlinewidth\":0,\"ticks\":\"\"},\"colorscale\":[[0.0,\"#0d0887\"],[0.1111111111111111,\"#46039f\"],[0.2222222222222222,\"#7201a8\"],[0.3333333333333333,\"#9c179e\"],[0.4444444444444444,\"#bd3786\"],[0.5555555555555556,\"#d8576b\"],[0.6666666666666666,\"#ed7953\"],[0.7777777777777778,\"#fb9f3a\"],[0.8888888888888888,\"#fdca26\"],[1.0,\"#f0f921\"]]}],\"choropleth\":[{\"type\":\"choropleth\",\"colorbar\":{\"outlinewidth\":0,\"ticks\":\"\"}}],\"histogram2d\":[{\"type\":\"histogram2d\",\"colorbar\":{\"outlinewidth\":0,\"ticks\":\"\"},\"colorscale\":[[0.0,\"#0d0887\"],[0.1111111111111111,\"#46039f\"],[0.2222222222222222,\"#7201a8\"],[0.3333333333333333,\"#9c179e\"],[0.4444444444444444,\"#bd3786\"],[0.5555555555555556,\"#d8576b\"],[0.6666666666666666,\"#ed7953\"],[0.7777777777777778,\"#fb9f3a\"],[0.8888888888888888,\"#fdca26\"],[1.0,\"#f0f921\"]]}],\"heatmap\":[{\"type\":\"heatmap\",\"colorbar\":{\"outlinewidth\":0,\"ticks\":\"\"},\"colorscale\":[[0.0,\"#0d0887\"],[0.1111111111111111,\"#46039f\"],[0.2222222222222222,\"#7201a8\"],[0.3333333333333333,\"#9c179e\"],[0.4444444444444444,\"#bd3786\"],[0.5555555555555556,\"#d8576b\"],[0.6666666666666666,\"#ed7953\"],[0.7777777777777778,\"#fb9f3a\"],[0.8888888888888888,\"#fdca26\"],[1.0,\"#f0f921\"]]}],\"heatmapgl\":[{\"type\":\"heatmapgl\",\"colorbar\":{\"outlinewidth\":0,\"ticks\":\"\"},\"colorscale\":[[0.0,\"#0d0887\"],[0.1111111111111111,\"#46039f\"],[0.2222222222222222,\"#7201a8\"],[0.3333333333333333,\"#9c179e\"],[0.4444444444444444,\"#bd3786\"],[0.5555555555555556,\"#d8576b\"],[0.6666666666666666,\"#ed7953\"],[0.7777777777777778,\"#fb9f3a\"],[0.8888888888888888,\"#fdca26\"],[1.0,\"#f0f921\"]]}],\"contourcarpet\":[{\"type\":\"contourcarpet\",\"colorbar\":{\"outlinewidth\":0,\"ticks\":\"\"}}],\"contour\":[{\"type\":\"contour\",\"colorbar\":{\"outlinewidth\":0,\"ticks\":\"\"},\"colorscale\":[[0.0,\"#0d0887\"],[0.1111111111111111,\"#46039f\"],[0.2222222222222222,\"#7201a8\"],[0.3333333333333333,\"#9c179e\"],[0.4444444444444444,\"#bd3786\"],[0.5555555555555556,\"#d8576b\"],[0.6666666666666666,\"#ed7953\"],[0.7777777777777778,\"#fb9f3a\"],[0.8888888888888888,\"#fdca26\"],[1.0,\"#f0f921\"]]}],\"surface\":[{\"type\":\"surface\",\"colorbar\":{\"outlinewidth\":0,\"ticks\":\"\"},\"colorscale\":[[0.0,\"#0d0887\"],[0.1111111111111111,\"#46039f\"],[0.2222222222222222,\"#7201a8\"],[0.3333333333333333,\"#9c179e\"],[0.4444444444444444,\"#bd3786\"],[0.5555555555555556,\"#d8576b\"],[0.6666666666666666,\"#ed7953\"],[0.7777777777777778,\"#fb9f3a\"],[0.8888888888888888,\"#fdca26\"],[1.0,\"#f0f921\"]]}],\"mesh3d\":[{\"type\":\"mesh3d\",\"colorbar\":{\"outlinewidth\":0,\"ticks\":\"\"}}],\"scatter\":[{\"marker\":{\"line\":{\"color\":\"#283442\"}},\"type\":\"scatter\"}],\"parcoords\":[{\"type\":\"parcoords\",\"line\":{\"colorbar\":{\"outlinewidth\":0,\"ticks\":\"\"}}}],\"scatterpolargl\":[{\"type\":\"scatterpolargl\",\"marker\":{\"colorbar\":{\"outlinewidth\":0,\"ticks\":\"\"}}}],\"bar\":[{\"error_x\":{\"color\":\"#f2f5fa\"},\"error_y\":{\"color\":\"#f2f5fa\"},\"marker\":{\"line\":{\"color\":\"rgb(17,17,17)\",\"width\":0.5},\"pattern\":{\"fillmode\":\"overlay\",\"size\":10,\"solidity\":0.2}},\"type\":\"bar\"}],\"scattergeo\":[{\"type\":\"scattergeo\",\"marker\":{\"colorbar\":{\"outlinewidth\":0,\"ticks\":\"\"}}}],\"scatterpolar\":[{\"type\":\"scatterpolar\",\"marker\":{\"colorbar\":{\"outlinewidth\":0,\"ticks\":\"\"}}}],\"histogram\":[{\"marker\":{\"pattern\":{\"fillmode\":\"overlay\",\"size\":10,\"solidity\":0.2}},\"type\":\"histogram\"}],\"scattergl\":[{\"marker\":{\"line\":{\"color\":\"#283442\"}},\"type\":\"scattergl\"}],\"scatter3d\":[{\"type\":\"scatter3d\",\"line\":{\"colorbar\":{\"outlinewidth\":0,\"ticks\":\"\"}},\"marker\":{\"colorbar\":{\"outlinewidth\":0,\"ticks\":\"\"}}}],\"scattermapbox\":[{\"type\":\"scattermapbox\",\"marker\":{\"colorbar\":{\"outlinewidth\":0,\"ticks\":\"\"}}}],\"scatterternary\":[{\"type\":\"scatterternary\",\"marker\":{\"colorbar\":{\"outlinewidth\":0,\"ticks\":\"\"}}}],\"scattercarpet\":[{\"type\":\"scattercarpet\",\"marker\":{\"colorbar\":{\"outlinewidth\":0,\"ticks\":\"\"}}}],\"carpet\":[{\"aaxis\":{\"endlinecolor\":\"#A2B1C6\",\"gridcolor\":\"#506784\",\"linecolor\":\"#506784\",\"minorgridcolor\":\"#506784\",\"startlinecolor\":\"#A2B1C6\"},\"baxis\":{\"endlinecolor\":\"#A2B1C6\",\"gridcolor\":\"#506784\",\"linecolor\":\"#506784\",\"minorgridcolor\":\"#506784\",\"startlinecolor\":\"#A2B1C6\"},\"type\":\"carpet\"}],\"table\":[{\"cells\":{\"fill\":{\"color\":\"#506784\"},\"line\":{\"color\":\"rgb(17,17,17)\"}},\"header\":{\"fill\":{\"color\":\"#2a3f5f\"},\"line\":{\"color\":\"rgb(17,17,17)\"}},\"type\":\"table\"}],\"barpolar\":[{\"marker\":{\"line\":{\"color\":\"rgb(17,17,17)\",\"width\":0.5},\"pattern\":{\"fillmode\":\"overlay\",\"size\":10,\"solidity\":0.2}},\"type\":\"barpolar\"}],\"pie\":[{\"automargin\":true,\"type\":\"pie\"}]},\"layout\":{\"autotypenumbers\":\"strict\",\"colorway\":[\"#636efa\",\"#EF553B\",\"#00cc96\",\"#ab63fa\",\"#FFA15A\",\"#19d3f3\",\"#FF6692\",\"#B6E880\",\"#FF97FF\",\"#FECB52\"],\"font\":{\"color\":\"#f2f5fa\"},\"hovermode\":\"closest\",\"hoverlabel\":{\"align\":\"left\"},\"paper_bgcolor\":\"rgb(17,17,17)\",\"plot_bgcolor\":\"rgb(17,17,17)\",\"polar\":{\"bgcolor\":\"rgb(17,17,17)\",\"angularaxis\":{\"gridcolor\":\"#506784\",\"linecolor\":\"#506784\",\"ticks\":\"\"},\"radialaxis\":{\"gridcolor\":\"#506784\",\"linecolor\":\"#506784\",\"ticks\":\"\"}},\"ternary\":{\"bgcolor\":\"rgb(17,17,17)\",\"aaxis\":{\"gridcolor\":\"#506784\",\"linecolor\":\"#506784\",\"ticks\":\"\"},\"baxis\":{\"gridcolor\":\"#506784\",\"linecolor\":\"#506784\",\"ticks\":\"\"},\"caxis\":{\"gridcolor\":\"#506784\",\"linecolor\":\"#506784\",\"ticks\":\"\"}},\"coloraxis\":{\"colorbar\":{\"outlinewidth\":0,\"ticks\":\"\"}},\"colorscale\":{\"sequential\":[[0.0,\"#0d0887\"],[0.1111111111111111,\"#46039f\"],[0.2222222222222222,\"#7201a8\"],[0.3333333333333333,\"#9c179e\"],[0.4444444444444444,\"#bd3786\"],[0.5555555555555556,\"#d8576b\"],[0.6666666666666666,\"#ed7953\"],[0.7777777777777778,\"#fb9f3a\"],[0.8888888888888888,\"#fdca26\"],[1.0,\"#f0f921\"]],\"sequentialminus\":[[0.0,\"#0d0887\"],[0.1111111111111111,\"#46039f\"],[0.2222222222222222,\"#7201a8\"],[0.3333333333333333,\"#9c179e\"],[0.4444444444444444,\"#bd3786\"],[0.5555555555555556,\"#d8576b\"],[0.6666666666666666,\"#ed7953\"],[0.7777777777777778,\"#fb9f3a\"],[0.8888888888888888,\"#fdca26\"],[1.0,\"#f0f921\"]],\"diverging\":[[0,\"#8e0152\"],[0.1,\"#c51b7d\"],[0.2,\"#de77ae\"],[0.3,\"#f1b6da\"],[0.4,\"#fde0ef\"],[0.5,\"#f7f7f7\"],[0.6,\"#e6f5d0\"],[0.7,\"#b8e186\"],[0.8,\"#7fbc41\"],[0.9,\"#4d9221\"],[1,\"#276419\"]]},\"xaxis\":{\"gridcolor\":\"#283442\",\"linecolor\":\"#506784\",\"ticks\":\"\",\"title\":{\"standoff\":15},\"zerolinecolor\":\"#283442\",\"automargin\":true,\"zerolinewidth\":2},\"yaxis\":{\"gridcolor\":\"#283442\",\"linecolor\":\"#506784\",\"ticks\":\"\",\"title\":{\"standoff\":15},\"zerolinecolor\":\"#283442\",\"automargin\":true,\"zerolinewidth\":2},\"scene\":{\"xaxis\":{\"backgroundcolor\":\"rgb(17,17,17)\",\"gridcolor\":\"#506784\",\"linecolor\":\"#506784\",\"showbackground\":true,\"ticks\":\"\",\"zerolinecolor\":\"#C8D4E3\",\"gridwidth\":2},\"yaxis\":{\"backgroundcolor\":\"rgb(17,17,17)\",\"gridcolor\":\"#506784\",\"linecolor\":\"#506784\",\"showbackground\":true,\"ticks\":\"\",\"zerolinecolor\":\"#C8D4E3\",\"gridwidth\":2},\"zaxis\":{\"backgroundcolor\":\"rgb(17,17,17)\",\"gridcolor\":\"#506784\",\"linecolor\":\"#506784\",\"showbackground\":true,\"ticks\":\"\",\"zerolinecolor\":\"#C8D4E3\",\"gridwidth\":2}},\"shapedefaults\":{\"line\":{\"color\":\"#f2f5fa\"}},\"annotationdefaults\":{\"arrowcolor\":\"#f2f5fa\",\"arrowhead\":0,\"arrowwidth\":1},\"geo\":{\"bgcolor\":\"rgb(17,17,17)\",\"landcolor\":\"rgb(17,17,17)\",\"subunitcolor\":\"#506784\",\"showland\":true,\"showlakes\":true,\"lakecolor\":\"rgb(17,17,17)\"},\"title\":{\"x\":0.05},\"updatemenudefaults\":{\"bgcolor\":\"#506784\",\"borderwidth\":0},\"sliderdefaults\":{\"bgcolor\":\"#C8D4E3\",\"borderwidth\":1,\"bordercolor\":\"rgb(17,17,17)\",\"tickwidth\":0},\"mapbox\":{\"style\":\"dark\"}}},\"xaxis\":{\"anchor\":\"y\",\"domain\":[0.0,1.0],\"title\":{\"text\":\"Itemname\"}},\"yaxis\":{\"anchor\":\"x\",\"domain\":[0.0,1.0],\"title\":{\"text\":\"count\"}},\"legend\":{\"tracegroupgap\":0},\"title\":{\"text\":\"Item Distribution\"},\"barmode\":\"relative\"},                        {\"responsive\": true}                    ).then(function(){\n",
              "                            \n",
              "var gd = document.getElementById('79a54ba4-04c2-4e20-a887-8cb613a3ab83');\n",
              "var x = new MutationObserver(function (mutations, observer) {{\n",
              "        var display = window.getComputedStyle(gd).display;\n",
              "        if (!display || display === 'none') {{\n",
              "            console.log([gd, 'removed!']);\n",
              "            Plotly.purge(gd);\n",
              "            observer.disconnect();\n",
              "        }}\n",
              "}});\n",
              "\n",
              "// Listen for the removal of the full notebook cells\n",
              "var notebookContainer = gd.closest('#notebook-container');\n",
              "if (notebookContainer) {{\n",
              "    x.observe(notebookContainer, {childList: true});\n",
              "}}\n",
              "\n",
              "// Listen for the clearing of the current output cell\n",
              "var outputEl = gd.closest('.output');\n",
              "if (outputEl) {{\n",
              "    x.observe(outputEl, {childList: true});\n",
              "}}\n",
              "\n",
              "                        })                };                            </script>        </div>\n",
              "</body>\n",
              "</html>"
            ]
          },
          "metadata": {}
        }
      ]
    },
    {
      "cell_type": "markdown",
      "source": [
        "Now, let’s have a look at the top 10 most popular items sold by the store"
      ],
      "metadata": {
        "id": "bvXBp6nJZ8UM"
      }
    },
    {
      "cell_type": "code",
      "source": [
        "# Calculate item popularity\n",
        "#===============================\n",
        "item_popularity = data.groupby('Itemname')['Quantity'].sum().sort_values(ascending=False)\n",
        "\n",
        "top_n = 10\n",
        "fig = go.Figure()\n",
        "fig.add_trace(go.Bar(x=item_popularity.index[:top_n], y=item_popularity.values[:top_n],\n",
        "                     text=item_popularity.values[:top_n], textposition='auto',\n",
        "                     marker=dict(color='skyblue')))\n",
        "fig.update_layout(title=f'Top {top_n} Most Popular Items',\n",
        "                  xaxis_title='Item Name', yaxis_title='Total Quantity Sold')\n",
        "fig.show()"
      ],
      "metadata": {
        "colab": {
          "base_uri": "https://localhost:8080/",
          "height": 631
        },
        "id": "TSXGHp8bZr_C",
        "outputId": "9e9e3808-dc30-48cd-fe4d-890ae17d4646"
      },
      "execution_count": 7,
      "outputs": [
        {
          "output_type": "stream",
          "name": "stderr",
          "text": [
            "/usr/local/lib/python3.10/dist-packages/ipykernel/ipkernel.py:283: DeprecationWarning:\n",
            "\n",
            "`should_run_async` will not call `transform_cell` automatically in the future. Please pass the result to `transformed_cell` argument and any exception that happen during thetransform in `preprocessing_exc_tuple` in IPython 7.17 and above.\n",
            "\n"
          ]
        },
        {
          "output_type": "display_data",
          "data": {
            "text/html": [
              "<html>\n",
              "<head><meta charset=\"utf-8\" /></head>\n",
              "<body>\n",
              "    <div>            <script src=\"https://cdnjs.cloudflare.com/ajax/libs/mathjax/2.7.5/MathJax.js?config=TeX-AMS-MML_SVG\"></script><script type=\"text/javascript\">if (window.MathJax && window.MathJax.Hub && window.MathJax.Hub.Config) {window.MathJax.Hub.Config({SVG: {font: \"STIX-Web\"}});}</script>                <script type=\"text/javascript\">window.PlotlyConfig = {MathJaxConfig: 'local'};</script>\n",
              "        <script charset=\"utf-8\" src=\"https://cdn.plot.ly/plotly-2.24.1.min.js\"></script>                <div id=\"ddd0e3a3-6259-4c0c-8387-86285bfca054\" class=\"plotly-graph-div\" style=\"height:525px; width:100%;\"></div>            <script type=\"text/javascript\">                                    window.PLOTLYENV=window.PLOTLYENV || {};                                    if (document.getElementById(\"ddd0e3a3-6259-4c0c-8387-86285bfca054\")) {                    Plotly.newPlot(                        \"ddd0e3a3-6259-4c0c-8387-86285bfca054\",                        [{\"marker\":{\"color\":\"skyblue\"},\"text\":[119.0,99.0,88.0,87.0,86.0,81.0,79.0,79.0,78.0,76.0],\"textposition\":\"auto\",\"x\":[\"Bananas\",\"Cheese\",\"Coffee\",\"Cereal\",\"Milk\",\"Oranges\",\"Tomatoes\",\"Sugar\",\"Potatoes\",\"Bread\"],\"y\":[119,99,88,87,86,81,79,79,78,76],\"type\":\"bar\"}],                        {\"template\":{\"data\":{\"histogram2dcontour\":[{\"type\":\"histogram2dcontour\",\"colorbar\":{\"outlinewidth\":0,\"ticks\":\"\"},\"colorscale\":[[0.0,\"#0d0887\"],[0.1111111111111111,\"#46039f\"],[0.2222222222222222,\"#7201a8\"],[0.3333333333333333,\"#9c179e\"],[0.4444444444444444,\"#bd3786\"],[0.5555555555555556,\"#d8576b\"],[0.6666666666666666,\"#ed7953\"],[0.7777777777777778,\"#fb9f3a\"],[0.8888888888888888,\"#fdca26\"],[1.0,\"#f0f921\"]]}],\"choropleth\":[{\"type\":\"choropleth\",\"colorbar\":{\"outlinewidth\":0,\"ticks\":\"\"}}],\"histogram2d\":[{\"type\":\"histogram2d\",\"colorbar\":{\"outlinewidth\":0,\"ticks\":\"\"},\"colorscale\":[[0.0,\"#0d0887\"],[0.1111111111111111,\"#46039f\"],[0.2222222222222222,\"#7201a8\"],[0.3333333333333333,\"#9c179e\"],[0.4444444444444444,\"#bd3786\"],[0.5555555555555556,\"#d8576b\"],[0.6666666666666666,\"#ed7953\"],[0.7777777777777778,\"#fb9f3a\"],[0.8888888888888888,\"#fdca26\"],[1.0,\"#f0f921\"]]}],\"heatmap\":[{\"type\":\"heatmap\",\"colorbar\":{\"outlinewidth\":0,\"ticks\":\"\"},\"colorscale\":[[0.0,\"#0d0887\"],[0.1111111111111111,\"#46039f\"],[0.2222222222222222,\"#7201a8\"],[0.3333333333333333,\"#9c179e\"],[0.4444444444444444,\"#bd3786\"],[0.5555555555555556,\"#d8576b\"],[0.6666666666666666,\"#ed7953\"],[0.7777777777777778,\"#fb9f3a\"],[0.8888888888888888,\"#fdca26\"],[1.0,\"#f0f921\"]]}],\"heatmapgl\":[{\"type\":\"heatmapgl\",\"colorbar\":{\"outlinewidth\":0,\"ticks\":\"\"},\"colorscale\":[[0.0,\"#0d0887\"],[0.1111111111111111,\"#46039f\"],[0.2222222222222222,\"#7201a8\"],[0.3333333333333333,\"#9c179e\"],[0.4444444444444444,\"#bd3786\"],[0.5555555555555556,\"#d8576b\"],[0.6666666666666666,\"#ed7953\"],[0.7777777777777778,\"#fb9f3a\"],[0.8888888888888888,\"#fdca26\"],[1.0,\"#f0f921\"]]}],\"contourcarpet\":[{\"type\":\"contourcarpet\",\"colorbar\":{\"outlinewidth\":0,\"ticks\":\"\"}}],\"contour\":[{\"type\":\"contour\",\"colorbar\":{\"outlinewidth\":0,\"ticks\":\"\"},\"colorscale\":[[0.0,\"#0d0887\"],[0.1111111111111111,\"#46039f\"],[0.2222222222222222,\"#7201a8\"],[0.3333333333333333,\"#9c179e\"],[0.4444444444444444,\"#bd3786\"],[0.5555555555555556,\"#d8576b\"],[0.6666666666666666,\"#ed7953\"],[0.7777777777777778,\"#fb9f3a\"],[0.8888888888888888,\"#fdca26\"],[1.0,\"#f0f921\"]]}],\"surface\":[{\"type\":\"surface\",\"colorbar\":{\"outlinewidth\":0,\"ticks\":\"\"},\"colorscale\":[[0.0,\"#0d0887\"],[0.1111111111111111,\"#46039f\"],[0.2222222222222222,\"#7201a8\"],[0.3333333333333333,\"#9c179e\"],[0.4444444444444444,\"#bd3786\"],[0.5555555555555556,\"#d8576b\"],[0.6666666666666666,\"#ed7953\"],[0.7777777777777778,\"#fb9f3a\"],[0.8888888888888888,\"#fdca26\"],[1.0,\"#f0f921\"]]}],\"mesh3d\":[{\"type\":\"mesh3d\",\"colorbar\":{\"outlinewidth\":0,\"ticks\":\"\"}}],\"scatter\":[{\"marker\":{\"line\":{\"color\":\"#283442\"}},\"type\":\"scatter\"}],\"parcoords\":[{\"type\":\"parcoords\",\"line\":{\"colorbar\":{\"outlinewidth\":0,\"ticks\":\"\"}}}],\"scatterpolargl\":[{\"type\":\"scatterpolargl\",\"marker\":{\"colorbar\":{\"outlinewidth\":0,\"ticks\":\"\"}}}],\"bar\":[{\"error_x\":{\"color\":\"#f2f5fa\"},\"error_y\":{\"color\":\"#f2f5fa\"},\"marker\":{\"line\":{\"color\":\"rgb(17,17,17)\",\"width\":0.5},\"pattern\":{\"fillmode\":\"overlay\",\"size\":10,\"solidity\":0.2}},\"type\":\"bar\"}],\"scattergeo\":[{\"type\":\"scattergeo\",\"marker\":{\"colorbar\":{\"outlinewidth\":0,\"ticks\":\"\"}}}],\"scatterpolar\":[{\"type\":\"scatterpolar\",\"marker\":{\"colorbar\":{\"outlinewidth\":0,\"ticks\":\"\"}}}],\"histogram\":[{\"marker\":{\"pattern\":{\"fillmode\":\"overlay\",\"size\":10,\"solidity\":0.2}},\"type\":\"histogram\"}],\"scattergl\":[{\"marker\":{\"line\":{\"color\":\"#283442\"}},\"type\":\"scattergl\"}],\"scatter3d\":[{\"type\":\"scatter3d\",\"line\":{\"colorbar\":{\"outlinewidth\":0,\"ticks\":\"\"}},\"marker\":{\"colorbar\":{\"outlinewidth\":0,\"ticks\":\"\"}}}],\"scattermapbox\":[{\"type\":\"scattermapbox\",\"marker\":{\"colorbar\":{\"outlinewidth\":0,\"ticks\":\"\"}}}],\"scatterternary\":[{\"type\":\"scatterternary\",\"marker\":{\"colorbar\":{\"outlinewidth\":0,\"ticks\":\"\"}}}],\"scattercarpet\":[{\"type\":\"scattercarpet\",\"marker\":{\"colorbar\":{\"outlinewidth\":0,\"ticks\":\"\"}}}],\"carpet\":[{\"aaxis\":{\"endlinecolor\":\"#A2B1C6\",\"gridcolor\":\"#506784\",\"linecolor\":\"#506784\",\"minorgridcolor\":\"#506784\",\"startlinecolor\":\"#A2B1C6\"},\"baxis\":{\"endlinecolor\":\"#A2B1C6\",\"gridcolor\":\"#506784\",\"linecolor\":\"#506784\",\"minorgridcolor\":\"#506784\",\"startlinecolor\":\"#A2B1C6\"},\"type\":\"carpet\"}],\"table\":[{\"cells\":{\"fill\":{\"color\":\"#506784\"},\"line\":{\"color\":\"rgb(17,17,17)\"}},\"header\":{\"fill\":{\"color\":\"#2a3f5f\"},\"line\":{\"color\":\"rgb(17,17,17)\"}},\"type\":\"table\"}],\"barpolar\":[{\"marker\":{\"line\":{\"color\":\"rgb(17,17,17)\",\"width\":0.5},\"pattern\":{\"fillmode\":\"overlay\",\"size\":10,\"solidity\":0.2}},\"type\":\"barpolar\"}],\"pie\":[{\"automargin\":true,\"type\":\"pie\"}]},\"layout\":{\"autotypenumbers\":\"strict\",\"colorway\":[\"#636efa\",\"#EF553B\",\"#00cc96\",\"#ab63fa\",\"#FFA15A\",\"#19d3f3\",\"#FF6692\",\"#B6E880\",\"#FF97FF\",\"#FECB52\"],\"font\":{\"color\":\"#f2f5fa\"},\"hovermode\":\"closest\",\"hoverlabel\":{\"align\":\"left\"},\"paper_bgcolor\":\"rgb(17,17,17)\",\"plot_bgcolor\":\"rgb(17,17,17)\",\"polar\":{\"bgcolor\":\"rgb(17,17,17)\",\"angularaxis\":{\"gridcolor\":\"#506784\",\"linecolor\":\"#506784\",\"ticks\":\"\"},\"radialaxis\":{\"gridcolor\":\"#506784\",\"linecolor\":\"#506784\",\"ticks\":\"\"}},\"ternary\":{\"bgcolor\":\"rgb(17,17,17)\",\"aaxis\":{\"gridcolor\":\"#506784\",\"linecolor\":\"#506784\",\"ticks\":\"\"},\"baxis\":{\"gridcolor\":\"#506784\",\"linecolor\":\"#506784\",\"ticks\":\"\"},\"caxis\":{\"gridcolor\":\"#506784\",\"linecolor\":\"#506784\",\"ticks\":\"\"}},\"coloraxis\":{\"colorbar\":{\"outlinewidth\":0,\"ticks\":\"\"}},\"colorscale\":{\"sequential\":[[0.0,\"#0d0887\"],[0.1111111111111111,\"#46039f\"],[0.2222222222222222,\"#7201a8\"],[0.3333333333333333,\"#9c179e\"],[0.4444444444444444,\"#bd3786\"],[0.5555555555555556,\"#d8576b\"],[0.6666666666666666,\"#ed7953\"],[0.7777777777777778,\"#fb9f3a\"],[0.8888888888888888,\"#fdca26\"],[1.0,\"#f0f921\"]],\"sequentialminus\":[[0.0,\"#0d0887\"],[0.1111111111111111,\"#46039f\"],[0.2222222222222222,\"#7201a8\"],[0.3333333333333333,\"#9c179e\"],[0.4444444444444444,\"#bd3786\"],[0.5555555555555556,\"#d8576b\"],[0.6666666666666666,\"#ed7953\"],[0.7777777777777778,\"#fb9f3a\"],[0.8888888888888888,\"#fdca26\"],[1.0,\"#f0f921\"]],\"diverging\":[[0,\"#8e0152\"],[0.1,\"#c51b7d\"],[0.2,\"#de77ae\"],[0.3,\"#f1b6da\"],[0.4,\"#fde0ef\"],[0.5,\"#f7f7f7\"],[0.6,\"#e6f5d0\"],[0.7,\"#b8e186\"],[0.8,\"#7fbc41\"],[0.9,\"#4d9221\"],[1,\"#276419\"]]},\"xaxis\":{\"gridcolor\":\"#283442\",\"linecolor\":\"#506784\",\"ticks\":\"\",\"title\":{\"standoff\":15},\"zerolinecolor\":\"#283442\",\"automargin\":true,\"zerolinewidth\":2},\"yaxis\":{\"gridcolor\":\"#283442\",\"linecolor\":\"#506784\",\"ticks\":\"\",\"title\":{\"standoff\":15},\"zerolinecolor\":\"#283442\",\"automargin\":true,\"zerolinewidth\":2},\"scene\":{\"xaxis\":{\"backgroundcolor\":\"rgb(17,17,17)\",\"gridcolor\":\"#506784\",\"linecolor\":\"#506784\",\"showbackground\":true,\"ticks\":\"\",\"zerolinecolor\":\"#C8D4E3\",\"gridwidth\":2},\"yaxis\":{\"backgroundcolor\":\"rgb(17,17,17)\",\"gridcolor\":\"#506784\",\"linecolor\":\"#506784\",\"showbackground\":true,\"ticks\":\"\",\"zerolinecolor\":\"#C8D4E3\",\"gridwidth\":2},\"zaxis\":{\"backgroundcolor\":\"rgb(17,17,17)\",\"gridcolor\":\"#506784\",\"linecolor\":\"#506784\",\"showbackground\":true,\"ticks\":\"\",\"zerolinecolor\":\"#C8D4E3\",\"gridwidth\":2}},\"shapedefaults\":{\"line\":{\"color\":\"#f2f5fa\"}},\"annotationdefaults\":{\"arrowcolor\":\"#f2f5fa\",\"arrowhead\":0,\"arrowwidth\":1},\"geo\":{\"bgcolor\":\"rgb(17,17,17)\",\"landcolor\":\"rgb(17,17,17)\",\"subunitcolor\":\"#506784\",\"showland\":true,\"showlakes\":true,\"lakecolor\":\"rgb(17,17,17)\"},\"title\":{\"x\":0.05},\"updatemenudefaults\":{\"bgcolor\":\"#506784\",\"borderwidth\":0},\"sliderdefaults\":{\"bgcolor\":\"#C8D4E3\",\"borderwidth\":1,\"bordercolor\":\"rgb(17,17,17)\",\"tickwidth\":0},\"mapbox\":{\"style\":\"dark\"}}},\"title\":{\"text\":\"Top 10 Most Popular Items\"},\"xaxis\":{\"title\":{\"text\":\"Item Name\"}},\"yaxis\":{\"title\":{\"text\":\"Total Quantity Sold\"}}},                        {\"responsive\": true}                    ).then(function(){\n",
              "                            \n",
              "var gd = document.getElementById('ddd0e3a3-6259-4c0c-8387-86285bfca054');\n",
              "var x = new MutationObserver(function (mutations, observer) {{\n",
              "        var display = window.getComputedStyle(gd).display;\n",
              "        if (!display || display === 'none') {{\n",
              "            console.log([gd, 'removed!']);\n",
              "            Plotly.purge(gd);\n",
              "            observer.disconnect();\n",
              "        }}\n",
              "}});\n",
              "\n",
              "// Listen for the removal of the full notebook cells\n",
              "var notebookContainer = gd.closest('#notebook-container');\n",
              "if (notebookContainer) {{\n",
              "    x.observe(notebookContainer, {childList: true});\n",
              "}}\n",
              "\n",
              "// Listen for the clearing of the current output cell\n",
              "var outputEl = gd.closest('.output');\n",
              "if (outputEl) {{\n",
              "    x.observe(outputEl, {childList: true});\n",
              "}}\n",
              "\n",
              "                        })                };                            </script>        </div>\n",
              "</body>\n",
              "</html>"
            ]
          },
          "metadata": {}
        }
      ]
    },
    {
      "cell_type": "markdown",
      "source": [
        "So, bananas are the most popular items sold at the store. Now, let’s have a look at the customer behaviour"
      ],
      "metadata": {
        "id": "Q0SHzBE5aTyF"
      }
    },
    {
      "cell_type": "code",
      "source": [
        "# Calculate average quantity and spending per customer\n",
        "#===========================================================\n",
        "customer_behavior = data.groupby('CustomerID').agg({'Quantity': 'mean', 'Price': 'sum'}).reset_index()\n",
        "\n",
        "# Create a DataFrame to display the values\n",
        "#===============================================\n",
        "table_data = pd.DataFrame({\n",
        "    'CustomerID': customer_behavior['CustomerID'],\n",
        "    'Average Quantity': customer_behavior['Quantity'],\n",
        "    'Total Spending': customer_behavior['Price']\n",
        "})\n",
        "\n",
        "# Create a subplot with a scatter plot and a table\n",
        "#======================================================\n",
        "fig = go.Figure()"
      ],
      "metadata": {
        "colab": {
          "base_uri": "https://localhost:8080/"
        },
        "id": "XxqmaBdyaTZO",
        "outputId": "3803a6c1-ef22-4bc6-f6ca-4ecb22fd0012"
      },
      "execution_count": 8,
      "outputs": [
        {
          "output_type": "stream",
          "name": "stderr",
          "text": [
            "/usr/local/lib/python3.10/dist-packages/ipykernel/ipkernel.py:283: DeprecationWarning:\n",
            "\n",
            "`should_run_async` will not call `transform_cell` automatically in the future. Please pass the result to `transformed_cell` argument and any exception that happen during thetransform in `preprocessing_exc_tuple` in IPython 7.17 and above.\n",
            "\n"
          ]
        }
      ]
    },
    {
      "cell_type": "code",
      "source": [
        "import pandas as pd\n",
        "import plotly.graph_objects as go\n",
        "\n",
        "# Calculate average quantity and spending per customer\n",
        "#===========================================================\n",
        "customer_behavior = data.groupby('CustomerID').agg({'Quantity': 'mean', 'Price': 'sum'}).reset_index()\n",
        "\n",
        "# Create a DataFrame to display the values\n",
        "#================================================\n",
        "table_data = pd.DataFrame({\n",
        "    'CustomerID': customer_behavior['CustomerID'],\n",
        "    'Average Quantity': customer_behavior['Quantity'],\n",
        "    'Total Spending': customer_behavior['Price']\n",
        "})\n",
        "\n",
        "# Create a figure\n",
        "#======================\n",
        "fig = go.Figure()\n",
        "\n",
        "# Add a table\n",
        "#===============\n",
        "fig.add_trace(go.Table(\n",
        "    header=dict(values=['CustomerID', 'Average Quantity', 'Total Spending']),\n",
        "    cells=dict(values=[table_data['CustomerID'], table_data['Average Quantity'], table_data['Total Spending']]),\n",
        "))\n",
        "\n",
        "# Update layout to remove x-axis and y-axis titles\n",
        "#=====================================================\n",
        "fig.update_layout(title='Customer Behavior')\n",
        "\n",
        "# Show the plot\n",
        "#================\n",
        "fig.show()\n"
      ],
      "metadata": {
        "colab": {
          "base_uri": "https://localhost:8080/",
          "height": 631
        },
        "id": "PblgFghqcjYG",
        "outputId": "0f80d74f-f899-4ff4-8f2b-bbde2c881418"
      },
      "execution_count": 11,
      "outputs": [
        {
          "output_type": "stream",
          "name": "stderr",
          "text": [
            "/usr/local/lib/python3.10/dist-packages/ipykernel/ipkernel.py:283: DeprecationWarning:\n",
            "\n",
            "`should_run_async` will not call `transform_cell` automatically in the future. Please pass the result to `transformed_cell` argument and any exception that happen during thetransform in `preprocessing_exc_tuple` in IPython 7.17 and above.\n",
            "\n"
          ]
        },
        {
          "output_type": "display_data",
          "data": {
            "text/html": [
              "<html>\n",
              "<head><meta charset=\"utf-8\" /></head>\n",
              "<body>\n",
              "    <div>            <script src=\"https://cdnjs.cloudflare.com/ajax/libs/mathjax/2.7.5/MathJax.js?config=TeX-AMS-MML_SVG\"></script><script type=\"text/javascript\">if (window.MathJax && window.MathJax.Hub && window.MathJax.Hub.Config) {window.MathJax.Hub.Config({SVG: {font: \"STIX-Web\"}});}</script>                <script type=\"text/javascript\">window.PlotlyConfig = {MathJaxConfig: 'local'};</script>\n",
              "        <script charset=\"utf-8\" src=\"https://cdn.plot.ly/plotly-2.24.1.min.js\"></script>                <div id=\"89936dd0-5718-4cd2-97ef-6abce2acb77b\" class=\"plotly-graph-div\" style=\"height:525px; width:100%;\"></div>            <script type=\"text/javascript\">                                    window.PLOTLYENV=window.PLOTLYENV || {};                                    if (document.getElementById(\"89936dd0-5718-4cd2-97ef-6abce2acb77b\")) {                    Plotly.newPlot(                        \"89936dd0-5718-4cd2-97ef-6abce2acb77b\",                        [{\"cells\":{\"values\":[[10504,10588,10826,11113,11267,11373,11430,11644,11752,11754,12550,12759,12777,12894,12951,13350,13413,13560,13601,13996,14018,14479,14594,14668,14869,15037,15290,15320,15378,15639,15790,15870,15876,15877,15938,15974,16027,16415,16469,16539,16613,16666,16844,16891,17005,17508,17679,17772,17821,18108,18132,18416,18450,18579,18782,18944,19038,19153,19478,19711,19774,19850,20072,20321,20351,20696,20909,21032,21035,21114,21268,21763,21868,22590,22613,22752,22764,22889,23073,23154,23412,23748,23884,24468,24493,25149,25378,25485,25656,25803,25874,26004,26046,26139,26307,26455,26627,26938,27080,27125,27376,27406,27433,27600,27619,28431,28715,28798,29519,29798,29871,29955,30221,30445,30543,30570,30621,30936,31127,31279,32074,32140,32332,32602,32813,32827,32905,33260,33323,33668,34087,34423,34539,34679,34687,34870,35074,35115,35384,35705,35709,35979,36019,36132,36298,36694,36719,37013,37152,37245,37403,37639,37686,37832,38011,38405,38536,38643,39192,39639,39724,39792,39902,39921,40115,40205,40389,40508,40800,40946,41003,41055,41440,41510,41629,41923,42281,42445,42567,42602,42722,42831,42926,43017,43169,43275,43327,43594,43681,43702,43704,43933,43975,44065,44183,44222,44236,44262,44502,44616,45015,45049,45060,45063,45064,45369,45410,45531,45811,46249,46399,46419,46426,46523,47285,47387,47681,47892,48098,48716,48912,48960,49110,49195,49638,49645,50407,50473,50813,50919,51032,51260,51336,51604,51682,52161,52194,52239,52255,52267,52299,52369,52711,53252,53334,53364,53368,53407,53486,53527,53609,53719,53723,54133,54178,54206,54225,54358,54793,54896,54970,55091,55267,55304,55321,55371,55421,55423,55506,55592,55704,55885,56067,56145,56291,57198,58046,58613,58893,59094,59237,59255,59416,59580,60088,60252,60271,60275,60351,60600,60944,61198,61230,61399,61496,61567,61738,61753,62431,62667,63008,63032,63057,63124,63217,63287,63681,63813,64093,64324,64367,64821,64854,65291,65376,65508,65941,66106,67240,67685,68017,68259,68313,68417,68571,68861,68912,69005,69123,69455,69611,69784,69838,69993,70126,70520,70748,70781,71236,71310,71377,71628,71663,71938,71987,72262,72279,72390,72611,72981,73266,73288,73544,73550,73613,73732,73789,73818,74271,74277,74383,74386,74773,74784,74910,75915,75967,76052,76128,76164,76168,76488,76583,76637,76666,76765,76946,76973,77559,77640,77765,77988,78106,78128,78268,78279,78342,78411,78522,78642,78889,78915,79183,79689,79964,80128,80292,80320,80346,80708,80925,81031,81260,81294,81556,82102,82670,82829,83029,83035,83049,83132,83603,83712,83735,83754,83761,84010,84097,84523,84568,84684,84871,84964,85303,85311,85393,85652,85895,85903,85960,86475,86586,86740,86833,86986,87130,87889,88065,88386,88554,88751,88784,88820,88923,88999,89244,89472,89637,89823,89941,90037,90160,90241,90362,90438,91077,91211,91284,91418,91421,91572,91832,92263,92271,92650,92652,92961,92962,93596,93698,93890,93949,94391,94737,94859,95259,95462,95622,95776,95924,96010,96136,96375,96384,96485,96839,96845,97240,97428,97433,98392,98394,98741,98766,98833,98942,99122,99162],[1.0,5.0,1.0,3.0,1.0,2.0,3.0,5.0,4.0,3.0,1.0,3.0,5.0,5.0,5.0,3.0,2.0,1.0,2.0,1.0,5.0,5.0,2.0,4.0,3.0,1.0,5.0,5.0,3.0,2.0,5.0,4.0,1.0,4.0,5.0,4.0,4.0,4.0,5.0,1.0,5.0,1.0,5.0,3.0,5.0,2.0,3.0,2.0,3.0,4.0,3.0,2.0,1.0,3.0,1.0,5.0,5.0,2.0,5.0,3.0,5.0,3.0,3.0,5.0,5.0,2.0,1.0,3.0,4.0,5.0,5.0,3.0,4.0,5.0,3.0,3.0,4.0,4.0,1.0,3.0,2.0,2.0,1.0,3.0,3.0,1.0,3.0,2.0,4.0,1.0,2.0,4.0,3.0,5.0,3.0,5.0,3.0,5.0,1.0,5.0,3.0,4.0,5.0,1.0,5.0,1.0,5.0,3.0,2.0,3.0,1.0,2.0,2.0,3.0,5.0,4.0,1.0,1.0,4.0,1.0,3.0,1.0,1.0,2.0,1.0,5.0,1.0,2.0,3.0,2.0,2.0,3.0,3.0,3.0,4.0,5.0,3.0,1.0,5.0,1.0,5.0,1.0,5.0,5.0,1.0,4.0,1.0,4.0,4.0,4.0,3.0,2.0,4.0,4.0,4.0,4.0,1.0,2.0,5.0,2.0,3.0,3.0,4.0,4.0,3.0,1.0,2.0,5.0,5.0,3.0,3.0,4.0,1.0,4.0,2.0,4.0,4.0,3.0,5.0,3.0,4.0,2.0,3.0,5.0,4.0,3.0,1.0,1.0,2.0,3.0,1.0,2.0,2.0,5.0,1.0,4.0,2.0,1.0,4.0,3.0,1.0,4.0,2.0,1.0,5.0,4.0,4.0,5.0,2.0,5.0,2.0,3.5,2.0,1.0,3.0,4.0,2.0,3.0,1.0,2.0,1.0,4.0,4.0,5.0,4.0,3.0,5.0,2.0,3.0,3.0,4.0,5.0,1.0,2.0,1.0,2.0,2.0,2.0,2.0,5.0,5.0,3.0,3.0,5.0,3.0,4.0,5.0,1.0,4.0,4.0,1.0,2.0,2.0,4.0,2.0,1.0,5.0,3.0,3.0,5.0,2.0,2.0,1.0,2.0,2.0,3.0,1.0,1.0,1.0,2.0,4.0,3.0,5.0,5.0,3.0,4.0,3.0,1.0,3.0,4.0,2.0,3.0,4.0,2.0,3.0,1.0,3.0,1.0,4.0,1.0,4.0,4.0,3.0,4.0,1.0,5.0,2.0,1.0,1.0,4.0,3.0,5.0,4.0,3.0,2.0,4.0,1.0,2.0,4.0,4.0,5.0,5.0,4.0,1.0,1.0,1.0,5.0,2.0,5.0,5.0,2.0,2.0,3.0,1.0,3.0,1.0,5.0,3.0,3.0,5.0,2.0,3.0,2.0,4.0,3.0,5.0,4.0,1.0,4.0,4.0,3.0,2.0,2.0,4.0,4.0,4.0,4.0,3.0,3.0,4.0,3.0,1.0,1.0,5.0,5.0,5.0,5.0,4.0,1.0,4.0,1.0,3.0,4.0,4.0,1.0,5.0,1.0,4.0,1.0,4.0,3.0,3.0,1.0,1.0,4.0,5.0,3.0,2.0,2.0,1.0,2.0,1.0,3.0,1.0,2.0,4.0,3.0,4.0,5.0,1.0,5.0,3.0,4.0,4.0,1.0,3.0,3.0,5.0,5.0,3.0,5.0,4.0,1.0,4.0,2.0,1.0,3.0,1.0,1.0,5.0,5.0,4.0,5.0,5.0,3.0,3.0,1.0,2.0,1.0,1.0,2.0,1.0,1.0,3.0,3.0,2.0,5.0,1.0,4.0,2.0,4.0,1.0,1.0,5.0,5.0,2.0,1.0,4.0,5.0,4.0,5.0,1.0,4.0,5.0,1.0,2.0,5.0,2.0,5.0,5.0,2.0,5.0,5.0,2.0,4.0,1.0,3.0,3.0,2.0,1.0,2.0,5.0,3.0,1.0,1.0,2.0,4.0,3.0,1.0,3.0,5.0,5.0,2.0,3.0,4.0,4.0,2.0,1.0,2.0,2.0,2.0,1.0,3.0,3.0,4.0,4.0,2.0,4.0,1.0,3.0,3.0,1.0,4.0,5.0,2.0,1.0,2.0,1.0,3.0],[2.04,5.5,5.67,8.84,8.87,6.69,4.85,4.67,6.06,1.18,9.13,9.66,6.56,3.02,8.81,1.55,3.4,6.93,5.08,5.21,2.16,7.05,8.03,6.78,8.54,8.66,3.82,9.25,4.9,9.53,4.08,2.25,8.41,8.71,4.05,5.37,4.77,2.66,9.93,2.33,9.64,3.66,3.09,2.29,2.89,8.23,6.44,9.62,5.26,9.84,4.18,3.97,8.51,6.68,3.0,4.84,9.43,9.28,1.58,7.12,8.51,9.67,7.67,9.26,7.09,1.22,9.28,5.3,6.81,3.05,5.11,3.48,9.6,2.62,8.14,8.48,7.51,8.1,8.88,3.54,4.14,4.02,6.35,5.35,4.33,2.65,2.01,6.88,4.94,9.04,2.84,1.33,8.68,4.91,1.37,8.49,4.99,3.73,2.25,9.53,9.31,7.91,5.84,9.78,2.48,7.15,1.64,1.59,4.08,7.71,9.7,6.66,2.08,4.65,8.75,2.58,7.74,4.21,5.66,7.87,6.36,6.47,6.13,2.93,3.0,5.56,4.53,9.94,5.15,2.67,7.88,9.75,2.4,8.15,7.37,9.72,8.07,2.92,5.32,5.0,2.22,2.94,7.22,6.25,4.26,3.67,6.15,5.74,2.25,7.38,3.69,9.64,4.05,1.27,1.46,4.78,7.5,4.5,5.25,7.28,2.01,4.14,7.92,4.85,1.6,3.71,4.86,8.68,8.03,9.79,3.11,3.89,2.32,4.7,1.21,7.43,1.41,9.84,4.7,4.78,9.88,1.96,5.41,2.58,9.15,1.21,5.86,1.59,7.2,1.55,3.63,8.15,4.23,2.71,3.85,4.9,4.9,9.41,1.61,7.47,2.81,1.83,8.75,8.5,1.98,5.87,9.09,7.92,7.82,6.42,6.91,11.49,8.91,8.0,8.22,8.4,8.31,1.59,2.89,8.71,3.52,4.45,4.6,3.98,7.38,9.18,4.66,3.48,3.19,7.41,9.75,6.41,5.85,4.2,6.16,6.03,4.88,5.66,7.26,6.6,8.3,9.72,9.82,6.91,2.64,1.64,4.35,7.66,4.08,1.04,8.98,7.82,9.1,4.19,6.77,5.39,5.28,5.29,4.09,9.32,5.06,5.57,4.62,1.12,4.24,4.34,3.22,8.79,4.49,6.04,8.56,1.25,1.48,8.26,5.76,4.54,4.69,5.79,7.46,4.12,7.12,8.11,8.93,8.2,7.78,1.41,5.24,7.35,6.21,1.49,9.52,6.58,6.37,3.2,3.48,6.32,5.74,7.89,3.67,9.5,2.55,2.63,5.8,4.38,4.32,5.81,7.25,3.85,2.76,8.41,1.12,5.32,7.98,8.04,2.73,6.66,9.83,1.15,5.62,4.65,3.01,2.82,9.14,7.97,1.5,3.95,4.85,6.04,1.26,7.83,2.87,8.83,4.82,7.64,3.85,3.64,9.5,9.61,3.0,3.24,8.78,8.92,6.38,8.84,8.71,9.11,6.85,5.14,2.86,8.86,8.75,5.58,6.98,9.04,3.43,9.52,3.35,3.35,2.59,1.9,6.36,4.24,3.88,8.2,4.61,2.29,7.07,6.41,1.33,8.09,7.34,5.04,9.87,2.38,8.33,6.47,2.65,4.89,6.12,4.43,5.69,5.44,3.82,6.12,2.45,2.62,2.89,9.94,3.69,1.39,4.53,2.68,8.97,9.69,8.45,4.33,1.13,2.27,3.05,8.42,2.48,1.71,3.0,3.22,7.25,6.09,4.04,4.49,9.86,4.22,6.5,9.67,1.82,7.35,6.91,9.1,9.58,2.63,4.54,6.1,9.48,9.05,6.88,3.61,3.95,7.58,5.76,7.52,2.08,1.28,3.45,3.9,4.04,9.79,7.12,6.34,4.93,2.34,4.3,6.91,6.99,8.82,8.37,1.26,1.91,9.79,1.29,6.09,4.69,7.14,4.35,8.22,5.04,2.3,9.49,6.35,7.74,2.38,4.73,6.93,8.15,4.93,4.33,1.54,6.48,4.79,5.31,5.42,5.77,8.38,2.93,9.39,2.09,9.39,8.6,2.32,5.45,4.01,4.27,3.69,8.84,2.12,4.92,7.1,5.94,3.75,7.32,7.18,4.66,2.68,5.16,7.38,3.58,8.11,5.89,4.6,8.96,7.66,7.14]]},\"header\":{\"values\":[\"CustomerID\",\"Average Quantity\",\"Total Spending\"]},\"type\":\"table\"}],                        {\"template\":{\"data\":{\"histogram2dcontour\":[{\"type\":\"histogram2dcontour\",\"colorbar\":{\"outlinewidth\":0,\"ticks\":\"\"},\"colorscale\":[[0.0,\"#0d0887\"],[0.1111111111111111,\"#46039f\"],[0.2222222222222222,\"#7201a8\"],[0.3333333333333333,\"#9c179e\"],[0.4444444444444444,\"#bd3786\"],[0.5555555555555556,\"#d8576b\"],[0.6666666666666666,\"#ed7953\"],[0.7777777777777778,\"#fb9f3a\"],[0.8888888888888888,\"#fdca26\"],[1.0,\"#f0f921\"]]}],\"choropleth\":[{\"type\":\"choropleth\",\"colorbar\":{\"outlinewidth\":0,\"ticks\":\"\"}}],\"histogram2d\":[{\"type\":\"histogram2d\",\"colorbar\":{\"outlinewidth\":0,\"ticks\":\"\"},\"colorscale\":[[0.0,\"#0d0887\"],[0.1111111111111111,\"#46039f\"],[0.2222222222222222,\"#7201a8\"],[0.3333333333333333,\"#9c179e\"],[0.4444444444444444,\"#bd3786\"],[0.5555555555555556,\"#d8576b\"],[0.6666666666666666,\"#ed7953\"],[0.7777777777777778,\"#fb9f3a\"],[0.8888888888888888,\"#fdca26\"],[1.0,\"#f0f921\"]]}],\"heatmap\":[{\"type\":\"heatmap\",\"colorbar\":{\"outlinewidth\":0,\"ticks\":\"\"},\"colorscale\":[[0.0,\"#0d0887\"],[0.1111111111111111,\"#46039f\"],[0.2222222222222222,\"#7201a8\"],[0.3333333333333333,\"#9c179e\"],[0.4444444444444444,\"#bd3786\"],[0.5555555555555556,\"#d8576b\"],[0.6666666666666666,\"#ed7953\"],[0.7777777777777778,\"#fb9f3a\"],[0.8888888888888888,\"#fdca26\"],[1.0,\"#f0f921\"]]}],\"heatmapgl\":[{\"type\":\"heatmapgl\",\"colorbar\":{\"outlinewidth\":0,\"ticks\":\"\"},\"colorscale\":[[0.0,\"#0d0887\"],[0.1111111111111111,\"#46039f\"],[0.2222222222222222,\"#7201a8\"],[0.3333333333333333,\"#9c179e\"],[0.4444444444444444,\"#bd3786\"],[0.5555555555555556,\"#d8576b\"],[0.6666666666666666,\"#ed7953\"],[0.7777777777777778,\"#fb9f3a\"],[0.8888888888888888,\"#fdca26\"],[1.0,\"#f0f921\"]]}],\"contourcarpet\":[{\"type\":\"contourcarpet\",\"colorbar\":{\"outlinewidth\":0,\"ticks\":\"\"}}],\"contour\":[{\"type\":\"contour\",\"colorbar\":{\"outlinewidth\":0,\"ticks\":\"\"},\"colorscale\":[[0.0,\"#0d0887\"],[0.1111111111111111,\"#46039f\"],[0.2222222222222222,\"#7201a8\"],[0.3333333333333333,\"#9c179e\"],[0.4444444444444444,\"#bd3786\"],[0.5555555555555556,\"#d8576b\"],[0.6666666666666666,\"#ed7953\"],[0.7777777777777778,\"#fb9f3a\"],[0.8888888888888888,\"#fdca26\"],[1.0,\"#f0f921\"]]}],\"surface\":[{\"type\":\"surface\",\"colorbar\":{\"outlinewidth\":0,\"ticks\":\"\"},\"colorscale\":[[0.0,\"#0d0887\"],[0.1111111111111111,\"#46039f\"],[0.2222222222222222,\"#7201a8\"],[0.3333333333333333,\"#9c179e\"],[0.4444444444444444,\"#bd3786\"],[0.5555555555555556,\"#d8576b\"],[0.6666666666666666,\"#ed7953\"],[0.7777777777777778,\"#fb9f3a\"],[0.8888888888888888,\"#fdca26\"],[1.0,\"#f0f921\"]]}],\"mesh3d\":[{\"type\":\"mesh3d\",\"colorbar\":{\"outlinewidth\":0,\"ticks\":\"\"}}],\"scatter\":[{\"marker\":{\"line\":{\"color\":\"#283442\"}},\"type\":\"scatter\"}],\"parcoords\":[{\"type\":\"parcoords\",\"line\":{\"colorbar\":{\"outlinewidth\":0,\"ticks\":\"\"}}}],\"scatterpolargl\":[{\"type\":\"scatterpolargl\",\"marker\":{\"colorbar\":{\"outlinewidth\":0,\"ticks\":\"\"}}}],\"bar\":[{\"error_x\":{\"color\":\"#f2f5fa\"},\"error_y\":{\"color\":\"#f2f5fa\"},\"marker\":{\"line\":{\"color\":\"rgb(17,17,17)\",\"width\":0.5},\"pattern\":{\"fillmode\":\"overlay\",\"size\":10,\"solidity\":0.2}},\"type\":\"bar\"}],\"scattergeo\":[{\"type\":\"scattergeo\",\"marker\":{\"colorbar\":{\"outlinewidth\":0,\"ticks\":\"\"}}}],\"scatterpolar\":[{\"type\":\"scatterpolar\",\"marker\":{\"colorbar\":{\"outlinewidth\":0,\"ticks\":\"\"}}}],\"histogram\":[{\"marker\":{\"pattern\":{\"fillmode\":\"overlay\",\"size\":10,\"solidity\":0.2}},\"type\":\"histogram\"}],\"scattergl\":[{\"marker\":{\"line\":{\"color\":\"#283442\"}},\"type\":\"scattergl\"}],\"scatter3d\":[{\"type\":\"scatter3d\",\"line\":{\"colorbar\":{\"outlinewidth\":0,\"ticks\":\"\"}},\"marker\":{\"colorbar\":{\"outlinewidth\":0,\"ticks\":\"\"}}}],\"scattermapbox\":[{\"type\":\"scattermapbox\",\"marker\":{\"colorbar\":{\"outlinewidth\":0,\"ticks\":\"\"}}}],\"scatterternary\":[{\"type\":\"scatterternary\",\"marker\":{\"colorbar\":{\"outlinewidth\":0,\"ticks\":\"\"}}}],\"scattercarpet\":[{\"type\":\"scattercarpet\",\"marker\":{\"colorbar\":{\"outlinewidth\":0,\"ticks\":\"\"}}}],\"carpet\":[{\"aaxis\":{\"endlinecolor\":\"#A2B1C6\",\"gridcolor\":\"#506784\",\"linecolor\":\"#506784\",\"minorgridcolor\":\"#506784\",\"startlinecolor\":\"#A2B1C6\"},\"baxis\":{\"endlinecolor\":\"#A2B1C6\",\"gridcolor\":\"#506784\",\"linecolor\":\"#506784\",\"minorgridcolor\":\"#506784\",\"startlinecolor\":\"#A2B1C6\"},\"type\":\"carpet\"}],\"table\":[{\"cells\":{\"fill\":{\"color\":\"#506784\"},\"line\":{\"color\":\"rgb(17,17,17)\"}},\"header\":{\"fill\":{\"color\":\"#2a3f5f\"},\"line\":{\"color\":\"rgb(17,17,17)\"}},\"type\":\"table\"}],\"barpolar\":[{\"marker\":{\"line\":{\"color\":\"rgb(17,17,17)\",\"width\":0.5},\"pattern\":{\"fillmode\":\"overlay\",\"size\":10,\"solidity\":0.2}},\"type\":\"barpolar\"}],\"pie\":[{\"automargin\":true,\"type\":\"pie\"}]},\"layout\":{\"autotypenumbers\":\"strict\",\"colorway\":[\"#636efa\",\"#EF553B\",\"#00cc96\",\"#ab63fa\",\"#FFA15A\",\"#19d3f3\",\"#FF6692\",\"#B6E880\",\"#FF97FF\",\"#FECB52\"],\"font\":{\"color\":\"#f2f5fa\"},\"hovermode\":\"closest\",\"hoverlabel\":{\"align\":\"left\"},\"paper_bgcolor\":\"rgb(17,17,17)\",\"plot_bgcolor\":\"rgb(17,17,17)\",\"polar\":{\"bgcolor\":\"rgb(17,17,17)\",\"angularaxis\":{\"gridcolor\":\"#506784\",\"linecolor\":\"#506784\",\"ticks\":\"\"},\"radialaxis\":{\"gridcolor\":\"#506784\",\"linecolor\":\"#506784\",\"ticks\":\"\"}},\"ternary\":{\"bgcolor\":\"rgb(17,17,17)\",\"aaxis\":{\"gridcolor\":\"#506784\",\"linecolor\":\"#506784\",\"ticks\":\"\"},\"baxis\":{\"gridcolor\":\"#506784\",\"linecolor\":\"#506784\",\"ticks\":\"\"},\"caxis\":{\"gridcolor\":\"#506784\",\"linecolor\":\"#506784\",\"ticks\":\"\"}},\"coloraxis\":{\"colorbar\":{\"outlinewidth\":0,\"ticks\":\"\"}},\"colorscale\":{\"sequential\":[[0.0,\"#0d0887\"],[0.1111111111111111,\"#46039f\"],[0.2222222222222222,\"#7201a8\"],[0.3333333333333333,\"#9c179e\"],[0.4444444444444444,\"#bd3786\"],[0.5555555555555556,\"#d8576b\"],[0.6666666666666666,\"#ed7953\"],[0.7777777777777778,\"#fb9f3a\"],[0.8888888888888888,\"#fdca26\"],[1.0,\"#f0f921\"]],\"sequentialminus\":[[0.0,\"#0d0887\"],[0.1111111111111111,\"#46039f\"],[0.2222222222222222,\"#7201a8\"],[0.3333333333333333,\"#9c179e\"],[0.4444444444444444,\"#bd3786\"],[0.5555555555555556,\"#d8576b\"],[0.6666666666666666,\"#ed7953\"],[0.7777777777777778,\"#fb9f3a\"],[0.8888888888888888,\"#fdca26\"],[1.0,\"#f0f921\"]],\"diverging\":[[0,\"#8e0152\"],[0.1,\"#c51b7d\"],[0.2,\"#de77ae\"],[0.3,\"#f1b6da\"],[0.4,\"#fde0ef\"],[0.5,\"#f7f7f7\"],[0.6,\"#e6f5d0\"],[0.7,\"#b8e186\"],[0.8,\"#7fbc41\"],[0.9,\"#4d9221\"],[1,\"#276419\"]]},\"xaxis\":{\"gridcolor\":\"#283442\",\"linecolor\":\"#506784\",\"ticks\":\"\",\"title\":{\"standoff\":15},\"zerolinecolor\":\"#283442\",\"automargin\":true,\"zerolinewidth\":2},\"yaxis\":{\"gridcolor\":\"#283442\",\"linecolor\":\"#506784\",\"ticks\":\"\",\"title\":{\"standoff\":15},\"zerolinecolor\":\"#283442\",\"automargin\":true,\"zerolinewidth\":2},\"scene\":{\"xaxis\":{\"backgroundcolor\":\"rgb(17,17,17)\",\"gridcolor\":\"#506784\",\"linecolor\":\"#506784\",\"showbackground\":true,\"ticks\":\"\",\"zerolinecolor\":\"#C8D4E3\",\"gridwidth\":2},\"yaxis\":{\"backgroundcolor\":\"rgb(17,17,17)\",\"gridcolor\":\"#506784\",\"linecolor\":\"#506784\",\"showbackground\":true,\"ticks\":\"\",\"zerolinecolor\":\"#C8D4E3\",\"gridwidth\":2},\"zaxis\":{\"backgroundcolor\":\"rgb(17,17,17)\",\"gridcolor\":\"#506784\",\"linecolor\":\"#506784\",\"showbackground\":true,\"ticks\":\"\",\"zerolinecolor\":\"#C8D4E3\",\"gridwidth\":2}},\"shapedefaults\":{\"line\":{\"color\":\"#f2f5fa\"}},\"annotationdefaults\":{\"arrowcolor\":\"#f2f5fa\",\"arrowhead\":0,\"arrowwidth\":1},\"geo\":{\"bgcolor\":\"rgb(17,17,17)\",\"landcolor\":\"rgb(17,17,17)\",\"subunitcolor\":\"#506784\",\"showland\":true,\"showlakes\":true,\"lakecolor\":\"rgb(17,17,17)\"},\"title\":{\"x\":0.05},\"updatemenudefaults\":{\"bgcolor\":\"#506784\",\"borderwidth\":0},\"sliderdefaults\":{\"bgcolor\":\"#C8D4E3\",\"borderwidth\":1,\"bordercolor\":\"rgb(17,17,17)\",\"tickwidth\":0},\"mapbox\":{\"style\":\"dark\"}}},\"title\":{\"text\":\"Customer Behavior\"}},                        {\"responsive\": true}                    ).then(function(){\n",
              "                            \n",
              "var gd = document.getElementById('89936dd0-5718-4cd2-97ef-6abce2acb77b');\n",
              "var x = new MutationObserver(function (mutations, observer) {{\n",
              "        var display = window.getComputedStyle(gd).display;\n",
              "        if (!display || display === 'none') {{\n",
              "            console.log([gd, 'removed!']);\n",
              "            Plotly.purge(gd);\n",
              "            observer.disconnect();\n",
              "        }}\n",
              "}});\n",
              "\n",
              "// Listen for the removal of the full notebook cells\n",
              "var notebookContainer = gd.closest('#notebook-container');\n",
              "if (notebookContainer) {{\n",
              "    x.observe(notebookContainer, {childList: true});\n",
              "}}\n",
              "\n",
              "// Listen for the clearing of the current output cell\n",
              "var outputEl = gd.closest('.output');\n",
              "if (outputEl) {{\n",
              "    x.observe(outputEl, {childList: true});\n",
              "}}\n",
              "\n",
              "                        })                };                            </script>        </div>\n",
              "</body>\n",
              "</html>"
            ]
          },
          "metadata": {}
        }
      ]
    },
    {
      "cell_type": "markdown",
      "source": [
        "Here, we are exploring customer behaviour, comparing average quantity and total spending, and analyzing exact numerical values in the table for each customer."
      ],
      "metadata": {
        "id": "2OK7h9KudcRi"
      }
    },
    {
      "cell_type": "code",
      "source": [
        "# Group items by BillNo and create a list of items for each bill\n",
        "#====================================================================\n",
        "basket = data.groupby('BillNo')['Itemname'].apply(list).reset_index()\n",
        "\n",
        "# Encode items as binary variables using one-hot encoding\n",
        "#=============================================================\n",
        "basket_encoded = basket['Itemname'].str.join('|').str.get_dummies('|')\n",
        "\n",
        "# Find frequent itemsets using Apriori algorithm with lower support\n",
        "#======================================================================\n",
        "frequent_itemsets = apriori(basket_encoded, min_support=0.01, use_colnames=True)\n",
        "\n",
        "# Generate association rules with lower lift threshold\n",
        "#=============================================================\n",
        "rules = association_rules(frequent_itemsets, metric='lift', min_threshold=0.5)\n",
        "\n",
        "# Display association rules\n",
        "#================================\n",
        "print(rules[['antecedents', 'consequents', 'support', 'confidence', 'lift']].head(10))"
      ],
      "metadata": {
        "colab": {
          "base_uri": "https://localhost:8080/"
        },
        "id": "JjekYNdfddnF",
        "outputId": "2106c841-9d1a-4324-bb8c-f0df126deed8"
      },
      "execution_count": 14,
      "outputs": [
        {
          "output_type": "stream",
          "name": "stderr",
          "text": [
            "/usr/local/lib/python3.10/dist-packages/ipykernel/ipkernel.py:283: DeprecationWarning:\n",
            "\n",
            "`should_run_async` will not call `transform_cell` automatically in the future. Please pass the result to `transformed_cell` argument and any exception that happen during thetransform in `preprocessing_exc_tuple` in IPython 7.17 and above.\n",
            "\n",
            "/usr/local/lib/python3.10/dist-packages/mlxtend/frequent_patterns/fpcommon.py:110: DeprecationWarning:\n",
            "\n",
            "DataFrames with non-bool types result in worse computationalperformance and their support might be discontinued in the future.Please use a DataFrame with bool type\n",
            "\n"
          ]
        },
        {
          "output_type": "stream",
          "name": "stdout",
          "text": [
            "  antecedents consequents   support  confidence      lift\n",
            "0    (Apples)     (Bread)  0.045752    0.280000  1.862609\n",
            "1     (Bread)    (Apples)  0.045752    0.304348  1.862609\n",
            "2    (Apples)    (Butter)  0.026144    0.160000  0.979200\n",
            "3    (Butter)    (Apples)  0.026144    0.160000  0.979200\n",
            "4    (Cereal)    (Apples)  0.019608    0.096774  0.592258\n",
            "5    (Apples)    (Cereal)  0.019608    0.120000  0.592258\n",
            "6    (Apples)    (Cheese)  0.039216    0.240000  1.311429\n",
            "7    (Cheese)    (Apples)  0.039216    0.214286  1.311429\n",
            "8   (Chicken)    (Apples)  0.032680    0.250000  1.530000\n",
            "9    (Apples)   (Chicken)  0.032680    0.200000  1.530000\n"
          ]
        }
      ]
    },
    {
      "cell_type": "markdown",
      "source": [
        "The above output shows association rules between different items (antecedents) and the items that tend to be purchased together with them (consequents)."
      ],
      "metadata": {
        "id": "iMxbz3sPvCRE"
      }
    },
    {
      "cell_type": "markdown",
      "source": [
        "**Let’s interpret the output step by step:**"
      ],
      "metadata": {
        "id": "aOORscvvvWbU"
      }
    },
    {
      "cell_type": "markdown",
      "source": [
        "**Antecedents:** These are the items that are considered as the starting point or “if” part of the association rule.\n",
        "\n",
        " For example, Bread, Butter, Cereal, Cheese, and Chicken are the antecedents in this analysis."
      ],
      "metadata": {
        "id": "7-ieyrj6vWYb"
      }
    },
    {
      "cell_type": "markdown",
      "source": [
        "**Consequents:** These are the items that tend to be purchased along with the antecedents or the “then” part of the association rule."
      ],
      "metadata": {
        "id": "7ls4uFf2vWTz"
      }
    },
    {
      "cell_type": "markdown",
      "source": [
        "**Support:** Support measures how frequently a particular combination of items (both antecedents and consequents) appears in the dataset. It is essentially the proportion of transactions in which the items are bought together.\n",
        "\n",
        "For example, the first rule indicates that Bread and Apples are bought together in approximately 4.58% of all transactions."
      ],
      "metadata": {
        "id": "rA0NFrbnvkaJ"
      }
    },
    {
      "cell_type": "markdown",
      "source": [
        "**Confidence:** Confidence quantifies the likelihood of the consequent item being purchased when the antecedent item is already in the basket.\n",
        "\n",
        "  \n",
        "  For example, the first rule tells us that there is a 30.43% chance of buying Apples when Bread is already in the basket."
      ],
      "metadata": {
        "id": "qBiVkKSLvqUH"
      }
    },
    {
      "cell_type": "markdown",
      "source": [
        "**Lift:** Lift measures the degree of association between the antecedent and consequent items, while considering the baseline purchase probability of the consequent item.\n",
        "A lift value **greater than 1 indicates a positive association**, meaning that the items are more likely to be bought together than independently.\n",
        "\n",
        "A value **less than 1 indicates a negative association**.\n",
        "\n",
        "  For example, the first rule has a lift of approximately 1.86, suggesting a positive association between Bread and Apples."
      ],
      "metadata": {
        "id": "CZcA5PcawN4V"
      }
    },
    {
      "cell_type": "code",
      "source": [],
      "metadata": {
        "id": "2yBDS6AAvB0u"
      },
      "execution_count": null,
      "outputs": []
    }
  ]
}